{
 "cells": [
  {
   "cell_type": "markdown",
   "metadata": {},
   "source": [
    "** 1.Write a program which will find all such numbers which are divisible by 7 but are not a multiple of 5, between 2000 and 3200 (both included). The numbers obtained should be printed in a comma-separated sequence on a single line.**"
   ]
  },
  {
   "cell_type": "code",
   "execution_count": 1,
   "metadata": {},
   "outputs": [
    {
     "data": {
      "text/plain": [
       "[2002,\n",
       " 2009,\n",
       " 2016,\n",
       " 2023,\n",
       " 2037,\n",
       " 2044,\n",
       " 2051,\n",
       " 2058,\n",
       " 2072,\n",
       " 2079,\n",
       " 2086,\n",
       " 2093,\n",
       " 2107,\n",
       " 2114,\n",
       " 2121,\n",
       " 2128,\n",
       " 2142,\n",
       " 2149,\n",
       " 2156,\n",
       " 2163,\n",
       " 2177,\n",
       " 2184,\n",
       " 2191,\n",
       " 2198,\n",
       " 2212,\n",
       " 2219,\n",
       " 2226,\n",
       " 2233,\n",
       " 2247,\n",
       " 2254,\n",
       " 2261,\n",
       " 2268,\n",
       " 2282,\n",
       " 2289,\n",
       " 2296,\n",
       " 2303,\n",
       " 2317,\n",
       " 2324,\n",
       " 2331,\n",
       " 2338,\n",
       " 2352,\n",
       " 2359,\n",
       " 2366,\n",
       " 2373,\n",
       " 2387,\n",
       " 2394,\n",
       " 2401,\n",
       " 2408,\n",
       " 2422,\n",
       " 2429,\n",
       " 2436,\n",
       " 2443,\n",
       " 2457,\n",
       " 2464,\n",
       " 2471,\n",
       " 2478,\n",
       " 2492,\n",
       " 2499,\n",
       " 2506,\n",
       " 2513,\n",
       " 2527,\n",
       " 2534,\n",
       " 2541,\n",
       " 2548,\n",
       " 2562,\n",
       " 2569,\n",
       " 2576,\n",
       " 2583,\n",
       " 2597,\n",
       " 2604,\n",
       " 2611,\n",
       " 2618,\n",
       " 2632,\n",
       " 2639,\n",
       " 2646,\n",
       " 2653,\n",
       " 2667,\n",
       " 2674,\n",
       " 2681,\n",
       " 2688,\n",
       " 2702,\n",
       " 2709,\n",
       " 2716,\n",
       " 2723,\n",
       " 2737,\n",
       " 2744,\n",
       " 2751,\n",
       " 2758,\n",
       " 2772,\n",
       " 2779,\n",
       " 2786,\n",
       " 2793,\n",
       " 2807,\n",
       " 2814,\n",
       " 2821,\n",
       " 2828,\n",
       " 2842,\n",
       " 2849,\n",
       " 2856,\n",
       " 2863,\n",
       " 2877,\n",
       " 2884,\n",
       " 2891,\n",
       " 2898,\n",
       " 2912,\n",
       " 2919,\n",
       " 2926,\n",
       " 2933,\n",
       " 2947,\n",
       " 2954,\n",
       " 2961,\n",
       " 2968,\n",
       " 2982,\n",
       " 2989,\n",
       " 2996,\n",
       " 3003,\n",
       " 3017,\n",
       " 3024,\n",
       " 3031,\n",
       " 3038,\n",
       " 3052,\n",
       " 3059,\n",
       " 3066,\n",
       " 3073,\n",
       " 3087,\n",
       " 3094,\n",
       " 3101,\n",
       " 3108,\n",
       " 3122,\n",
       " 3129,\n",
       " 3136,\n",
       " 3143,\n",
       " 3157,\n",
       " 3164,\n",
       " 3171,\n",
       " 3178,\n",
       " 3192,\n",
       " 3199]"
      ]
     },
     "execution_count": 1,
     "metadata": {},
     "output_type": "execute_result"
    }
   ],
   "source": [
    "l=[x for x in range(2000,3201) if (x%5!=0 and x%7==0) ]\n",
    "l"
   ]
  },
  {
   "cell_type": "markdown",
   "metadata": {},
   "source": [
    "**2. Write a program which can compute the factorial of a given numbers. The results should be printed in a comma-separated sequence on a single line.**"
   ]
  },
  {
   "cell_type": "code",
   "execution_count": 2,
   "metadata": {},
   "outputs": [
    {
     "name": "stdout",
     "output_type": "stream",
     "text": [
      "Enter the number to find the factorial :5\n",
      "Factorial for the given number 5 is 120\n"
     ]
    }
   ],
   "source": [
    "ipnum1=input(\"Enter the number to find the factorial :\")\n",
    "ipnum=int(ipnum1)\n",
    "factorial=1\n",
    "if (ipnum>0):\n",
    "    for i in range(1,ipnum+1):\n",
    "         factorial=factorial*i\n",
    "    print(\"Factorial for the given number \" +str(ipnum) + \" is \" +str(factorial) )\n",
    "else:\n",
    "    print(\"Factorial for the given number: \" +str(ipnum) +\" does not exist\" )"
   ]
  },
  {
   "cell_type": "markdown",
   "metadata": {},
   "source": [
    "**3. With a given integral number n, write a program to generate a dictionary that contains (i, i*i) such that is an integral number between 1 and n (both included) and then the program should print the dictionary.**"
   ]
  },
  {
   "cell_type": "code",
   "execution_count": 3,
   "metadata": {},
   "outputs": [
    {
     "name": "stdout",
     "output_type": "stream",
     "text": [
      "Enter the number : 5\n",
      "{1: 1, 2: 4, 3: 9, 4: 16, 5: 25}\n"
     ]
    }
   ],
   "source": [
    "num=int(input(\"Enter the number : \"))\n",
    "dict1=dict()\n",
    "for i in range(1,num+1):\n",
    "    key=i;\n",
    "    value=i*i;\n",
    "    dict1.update({key:value})\n",
    "print(dict1)"
   ]
  },
  {
   "cell_type": "markdown",
   "metadata": {},
   "source": [
    "**4. Write a program which accepts a sequence of comma-separated numbers from console and generate a list and a tuple which contains every number.**"
   ]
  },
  {
   "cell_type": "code",
   "execution_count": 4,
   "metadata": {},
   "outputs": [
    {
     "name": "stdout",
     "output_type": "stream",
     "text": [
      "Enter the list of numbers : 1,2,3,4,5\n",
      "['1', '2', '3', '4', '5'] ('1', '2', '3', '4', '5')\n"
     ]
    }
   ],
   "source": [
    "l1=(input(\"Enter the list of numbers : \"))\n",
    "l2=l1.split(',')\n",
    "t1=tuple(l2)\n",
    "print(l2,t1)"
   ]
  },
  {
   "cell_type": "markdown",
   "metadata": {},
   "source": [
    "**5. Define a class which has at least two methods:\n",
    "getString: to get a string from console input\n",
    "printString: to print the string in upper case.**"
   ]
  },
  {
   "cell_type": "code",
   "execution_count": 5,
   "metadata": {},
   "outputs": [
    {
     "name": "stdout",
     "output_type": "stream",
     "text": [
      "Enter the input string :hello world\n",
      "The string to print is :  HELLO WORLD\n"
     ]
    }
   ],
   "source": [
    "class stringHandling:\n",
    "    def __init__(self,a):\n",
    "        self.a=a\n",
    "        \n",
    "    def getString(self):\n",
    "        self.strin=input(\"Enter the input string :\")\n",
    "        \n",
    "    def printstring(self):\n",
    "        print(\"The string to print is : \",(self.strin).upper())\n",
    "s1=stringHandling(\"a\")\n",
    "s1.getString()\n",
    "s1.printstring()"
   ]
  },
  {
   "cell_type": "markdown",
   "metadata": {},
   "source": [
    "**6. Write a program that calculates and prints the value according to the given formula:\n",
    "Q = Square root of [(2 * C * D)/H]\n",
    "Following are the fixed values of C and H: C is 50. H is 30.\n",
    "D is the variable whose values should be input to your program in a comma-separated sequence.**"
   ]
  },
  {
   "cell_type": "code",
   "execution_count": 6,
   "metadata": {},
   "outputs": [
    {
     "name": "stdout",
     "output_type": "stream",
     "text": [
      "enter the value for D in comma seperated format100,150,250\n"
     ]
    },
    {
     "data": {
      "text/plain": [
       "[18, 22, 28]"
      ]
     },
     "execution_count": 6,
     "metadata": {},
     "output_type": "execute_result"
    }
   ],
   "source": [
    "import math\n",
    "C=50\n",
    "H=30\n",
    "Din=input(\"enter the value for D in comma seperated format\")\n",
    "Din=Din.split(',')\n",
    "root=[]\n",
    "for i in Din:\n",
    "    root.append(int(math.sqrt((2*C*int(i))/H)))\n",
    "root"
   ]
  },
  {
   "cell_type": "markdown",
   "metadata": {},
   "source": [
    "**7. Write a program which takes 2 digits, X,Y as input and generates a 2-dimensional array. The element value in the i-th row and j-th column of the array should be i*j.\n",
    "Note: i=0,1.., X-1; j=0,1,¡Y-1.\n",
    "Suppose the following inputs are given to the program: 3, 5\n",
    "Then, the output of the program should be: [[0, 0, 0, 0, 0], [0, 1, 2, 3, 4], [0, 2, 4, 6, 8]]\n",
    "Hints: In case of input data being supplied to the question, it should be assumed to be a console input in a comma-separated form.**"
   ]
  },
  {
   "cell_type": "code",
   "execution_count": 7,
   "metadata": {},
   "outputs": [
    {
     "name": "stdout",
     "output_type": "stream",
     "text": [
      "Enter X,Y values :3,5\n"
     ]
    },
    {
     "data": {
      "text/plain": [
       "[[0, 0, 0, 0, 0], [0, 1, 2, 3, 4], [0, 2, 4, 6, 8]]"
      ]
     },
     "execution_count": 7,
     "metadata": {},
     "output_type": "execute_result"
    }
   ],
   "source": [
    "nums=input(\"Enter X,Y values :\")\n",
    "x,y=nums.split(',')\n",
    "x=int(x)\n",
    "y=int(y)\n",
    "L1=[]\n",
    "for i in range(x):\n",
    "    l2=[]\n",
    "    for j in range(y):\n",
    "        l2.append(i*j)\n",
    "    L1.append(l2)\n",
    "L1"
   ]
  },
  {
   "cell_type": "markdown",
   "metadata": {},
   "source": [
    "**8. Write a program that accepts a comma separated sequence of words as input and prints the words in a comma-separated sequence after sorting them alphabetically.\n",
    "Suppose the input is supplied to the program: without, hello, bag, world\n",
    "Then, the output should be: bag, hello, without, world\n",
    "Hints: In case of input data being supplied to the question, it should be assumed to be a console input.**"
   ]
  },
  {
   "cell_type": "code",
   "execution_count": 8,
   "metadata": {},
   "outputs": [
    {
     "name": "stdout",
     "output_type": "stream",
     "text": [
      "Enter the words :without,hello,bag,world\n"
     ]
    },
    {
     "data": {
      "text/plain": [
       "['bag', 'hello', 'without', 'world']"
      ]
     },
     "execution_count": 8,
     "metadata": {},
     "output_type": "execute_result"
    }
   ],
   "source": [
    "wordin=input(\"Enter the words :\")\n",
    "words=[]\n",
    "words=wordin.split(',')\n",
    "word=sorted(words)\n",
    "word"
   ]
  },
  {
   "cell_type": "markdown",
   "metadata": {},
   "source": [
    "** 9.Write a program that accepts sequence of lines as input and prints the lines after making all characters in the sentence capitalized.Suppose the input is supplied to the program: Hello world\n",
    "Practice makes perfect\n",
    "Then, the output should be: HELLO WORLD\n",
    "PRACTICE MAKES PERFECT\n",
    "Hints: In case of input data being supplied to the question, it should be assumed to be a console input.**"
   ]
  },
  {
   "cell_type": "code",
   "execution_count": 9,
   "metadata": {},
   "outputs": [
    {
     "name": "stdout",
     "output_type": "stream",
     "text": [
      "Enter the input sentences :hello world\n",
      "Enter the input sentences :practice makes perfect\n",
      "Enter the input sentences :\n",
      "HELLO WORLD\n",
      "PRACTICE MAKES PERFECT\n"
     ]
    }
   ],
   "source": [
    "l = []\n",
    "while True:\n",
    "    s = input(\"Enter the input sentences :\")\n",
    "    if s:\n",
    "        l.append(s.upper())\n",
    "    else:\n",
    "        break;\n",
    "\n",
    "for upper_sentence in l:\n",
    "    print(upper_sentence)"
   ]
  },
  {
   "cell_type": "markdown",
   "metadata": {},
   "source": [
    "**10. Write a program that accepts a sequence of whitespace separated words as input and prints the words after removing all duplicate words and sorting them alphanumerically.\n",
    "Suppose the input is supplied to the program: hello world and practice makes perfect and hello world again\n",
    "Then, the output should be: again and hello makes perfect practice world**"
   ]
  },
  {
   "cell_type": "code",
   "execution_count": 10,
   "metadata": {},
   "outputs": [
    {
     "name": "stdout",
     "output_type": "stream",
     "text": [
      "Enter whitespace seperated wordshello world and practice makes perfect and hello world again\n"
     ]
    },
    {
     "data": {
      "text/plain": [
       "['again', 'and', 'hello', 'makes', 'perfect', 'practice', 'world']"
      ]
     },
     "execution_count": 10,
     "metadata": {},
     "output_type": "execute_result"
    }
   ],
   "source": [
    "string1=input(\"Enter whitespace seperated words\")\n",
    "strlst=string1.split(' ')\n",
    "strop=list(dict.fromkeys(strlst))\n",
    "strop.sort()\n",
    "strop"
   ]
  },
  {
   "cell_type": "markdown",
   "metadata": {},
   "source": [
    "**11. Write a program which accepts a sequence of comma separated 4 digit binary numbers as its input and then check whether they are divisible by 5 or not. The numbers that are divisible by 5 are to be printed in a comma separated sequence.\n",
    "Suppose the input is supplied to the program: 0100,0011,1010,1001\n",
    "Then the output should be: 1010\n",
    "Notes: Assume the data is input by console.\n",
    "Hints: In case of input data being supplied to the question, it should be assumed to be a console input.**"
   ]
  },
  {
   "cell_type": "code",
   "execution_count": 11,
   "metadata": {},
   "outputs": [
    {
     "name": "stdout",
     "output_type": "stream",
     "text": [
      "Enter the comma seperated 4 digit binary numbers :0100,0011,1010,1001\n"
     ]
    },
    {
     "data": {
      "text/plain": [
       "['1010']"
      ]
     },
     "execution_count": 11,
     "metadata": {},
     "output_type": "execute_result"
    }
   ],
   "source": [
    "binnums=input(\"Enter the comma seperated 4 digit binary numbers :\")\n",
    "binlist=binnums.split(',')\n",
    "intlist=[]\n",
    "for i in binlist:\n",
    "    j=int(i,2)\n",
    "    if (j%5==0):\n",
    "        intlist.append(i)\n",
    "intlist"
   ]
  },
  {
   "cell_type": "markdown",
   "metadata": {},
   "source": [
    "**12. Write a program, which will find all such numbers between 1000 and 3000 (both included) such that each digit of the number is an even number.\n",
    "The numbers obtained should be printed in a comma-separated sequence on a single line.\n",
    "Hints: In case of input data being supplied to the question, it should be assumed to be a console input.**"
   ]
  },
  {
   "cell_type": "code",
   "execution_count": 12,
   "metadata": {},
   "outputs": [
    {
     "name": "stdout",
     "output_type": "stream",
     "text": [
      "Enter the range of numbers seperated by comma1000,3000\n"
     ]
    },
    {
     "data": {
      "text/plain": [
       "[2000,\n",
       " 2002,\n",
       " 2004,\n",
       " 2006,\n",
       " 2008,\n",
       " 2020,\n",
       " 2022,\n",
       " 2024,\n",
       " 2026,\n",
       " 2028,\n",
       " 2040,\n",
       " 2042,\n",
       " 2044,\n",
       " 2046,\n",
       " 2048,\n",
       " 2060,\n",
       " 2062,\n",
       " 2064,\n",
       " 2066,\n",
       " 2068,\n",
       " 2080,\n",
       " 2082,\n",
       " 2084,\n",
       " 2086,\n",
       " 2088,\n",
       " 2200,\n",
       " 2202,\n",
       " 2204,\n",
       " 2206,\n",
       " 2208,\n",
       " 2220,\n",
       " 2222,\n",
       " 2224,\n",
       " 2226,\n",
       " 2228,\n",
       " 2240,\n",
       " 2242,\n",
       " 2244,\n",
       " 2246,\n",
       " 2248,\n",
       " 2260,\n",
       " 2262,\n",
       " 2264,\n",
       " 2266,\n",
       " 2268,\n",
       " 2280,\n",
       " 2282,\n",
       " 2284,\n",
       " 2286,\n",
       " 2288,\n",
       " 2400,\n",
       " 2402,\n",
       " 2404,\n",
       " 2406,\n",
       " 2408,\n",
       " 2420,\n",
       " 2422,\n",
       " 2424,\n",
       " 2426,\n",
       " 2428,\n",
       " 2440,\n",
       " 2442,\n",
       " 2444,\n",
       " 2446,\n",
       " 2448,\n",
       " 2460,\n",
       " 2462,\n",
       " 2464,\n",
       " 2466,\n",
       " 2468,\n",
       " 2480,\n",
       " 2482,\n",
       " 2484,\n",
       " 2486,\n",
       " 2488,\n",
       " 2600,\n",
       " 2602,\n",
       " 2604,\n",
       " 2606,\n",
       " 2608,\n",
       " 2620,\n",
       " 2622,\n",
       " 2624,\n",
       " 2626,\n",
       " 2628,\n",
       " 2640,\n",
       " 2642,\n",
       " 2644,\n",
       " 2646,\n",
       " 2648,\n",
       " 2660,\n",
       " 2662,\n",
       " 2664,\n",
       " 2666,\n",
       " 2668,\n",
       " 2680,\n",
       " 2682,\n",
       " 2684,\n",
       " 2686,\n",
       " 2688,\n",
       " 2800,\n",
       " 2802,\n",
       " 2804,\n",
       " 2806,\n",
       " 2808,\n",
       " 2820,\n",
       " 2822,\n",
       " 2824,\n",
       " 2826,\n",
       " 2828,\n",
       " 2840,\n",
       " 2842,\n",
       " 2844,\n",
       " 2846,\n",
       " 2848,\n",
       " 2860,\n",
       " 2862,\n",
       " 2864,\n",
       " 2866,\n",
       " 2868,\n",
       " 2880,\n",
       " 2882,\n",
       " 2884,\n",
       " 2886,\n",
       " 2888]"
      ]
     },
     "execution_count": 12,
     "metadata": {},
     "output_type": "execute_result"
    }
   ],
   "source": [
    "ipnums=input(\"Enter the range of numbers seperated by comma\")\n",
    "num1,num2=ipnums.split(',')\n",
    "num1=int(num1)\n",
    "num2=int(num2)\n",
    "evenlst=[]\n",
    "oddcnt=0\n",
    "oddset={'1','3','5','7','9'}\n",
    "for i in range(num1,num2+1):\n",
    "    j=str(i)    \n",
    "    if any((c in oddset) for c in j):\n",
    "        oddcnt=oddcnt+1\n",
    "    else:\n",
    "        evenlst.append(i)\n",
    "evenlst"
   ]
  },
  {
   "cell_type": "markdown",
   "metadata": {},
   "source": [
    "**13. Write a program that accepts a sentence and calculate the number of letters and digits.\n",
    "Suppose the input is supplied to the program: hello world! 123\n",
    "Then, the output should be: LETTERS 10\n",
    "DIGITS 3\n",
    "Hints: In case of input data being supplied to the question, it should be assumed to be a console input.**"
   ]
  },
  {
   "cell_type": "code",
   "execution_count": 13,
   "metadata": {},
   "outputs": [
    {
     "name": "stdout",
     "output_type": "stream",
     "text": [
      "Enter the input stringhello world! 123\n",
      "LETTERS 10 DIGITS 3\n"
     ]
    }
   ],
   "source": [
    "string1=input(\"Enter the input string\")\n",
    "ltrcnt=0\n",
    "dgtcnt=0\n",
    "for i in string1:\n",
    "    if (i.isalpha())==True:        \n",
    "        ltrcnt=ltrcnt+1\n",
    "    elif (i.isnumeric())==True:\n",
    "        dgtcnt=dgtcnt+1\n",
    "print(\"LETTERS \" + str(ltrcnt) + \" DIGITS \" + str(dgtcnt))"
   ]
  },
  {
   "cell_type": "markdown",
   "metadata": {},
   "source": [
    "**14. Write a program that accepts a sentence and calculate the number of upper case letters and lower case letters.\n",
    "Suppose the input is supplied to the program: Hello world!\n",
    "Then, the output should be: UPPER CASE 1\n",
    "LOWER CASE 9\n",
    "Hints: In case of input data being supplied to the question, it should be assumed to be a console input.**"
   ]
  },
  {
   "cell_type": "code",
   "execution_count": 14,
   "metadata": {},
   "outputs": [
    {
     "name": "stdout",
     "output_type": "stream",
     "text": [
      "Enter the input string :Hello world!\n",
      "UPPER CASE 1 LOWER CASE 9\n"
     ]
    }
   ],
   "source": [
    "string1=input(\"Enter the input string :\")\n",
    "uprcnt=0\n",
    "lwrcnt=0\n",
    "for i in string1:\n",
    "    if (i.isalpha())==True:\n",
    "        if (i.isupper())==True:        \n",
    "            uprcnt=uprcnt+1\n",
    "        else:\n",
    "            lwrcnt=lwrcnt+1\n",
    "print(\"UPPER CASE \" + str(uprcnt) + \" LOWER CASE \" + str(lwrcnt))"
   ]
  },
  {
   "cell_type": "markdown",
   "metadata": {},
   "source": [
    "**15. Write a program that computes the value of a+aa+aaa+aaaa with a given digit as the value of a.\n",
    "Suppose the input is supplied to the program: 9\n",
    "Then, the output should be: 11106\n",
    "Hints: In case of input data being supplied to the question, it should be assumed to be a console input.**"
   ]
  },
  {
   "cell_type": "code",
   "execution_count": 15,
   "metadata": {},
   "outputs": [
    {
     "name": "stdout",
     "output_type": "stream",
     "text": [
      "Enter the number :9\n",
      "7380\n"
     ]
    }
   ],
   "source": [
    "a=int(input(\"Enter the number :\"))\n",
    "rslt=(a+(a**2)+(a**3)+(a**4))\n",
    "print(rslt)"
   ]
  },
  {
   "cell_type": "markdown",
   "metadata": {},
   "source": [
    "**16. Use a list comprehension to square each odd number in a list. The list is input by a sequence of comma-separated numbers.\n",
    "Suppose the input is supplied to the program: 1,2,3,4,5,6,7,8,9\n",
    "Then, the output should be: 1, 3, 5, 7, 9\n",
    "Hints: In case of input data being supplied to the question, it should be assumed to be a console input.**"
   ]
  },
  {
   "cell_type": "code",
   "execution_count": 16,
   "metadata": {},
   "outputs": [
    {
     "name": "stdout",
     "output_type": "stream",
     "text": [
      "Enter the comma seperated list of numbers1,2,3,4,5,6,7,8,9\n"
     ]
    },
    {
     "data": {
      "text/plain": [
       "[1, 9, 25, 49, 81]"
      ]
     },
     "execution_count": 16,
     "metadata": {},
     "output_type": "execute_result"
    }
   ],
   "source": [
    "input1=input(\"Enter the comma seperated list of numbers\")\n",
    "input2=input1.split(',')\n",
    "l1=[int(i) for i in input2]\n",
    "l2=[j**2 for j in l1 if((j%2)!=0)]\n",
    "l2"
   ]
  },
  {
   "cell_type": "markdown",
   "metadata": {},
   "source": [
    "**17. Write a program that computes the net amount of a bank account based a transaction log from console input. The transaction log format is shown as following:\n",
    "D 100\n",
    "W 200\n",
    "--D means deposit while W means withdrawal.\n",
    "Suppose the input is supplied to the program:\n",
    "D 300\n",
    "W 200\n",
    "D 100\n",
    "Then, the output should be: 500\n",
    "Hints: In case of input data being supplied to the question, it should be assumed to be a console input.**"
   ]
  },
  {
   "cell_type": "code",
   "execution_count": 17,
   "metadata": {},
   "outputs": [
    {
     "name": "stdout",
     "output_type": "stream",
     "text": [
      "Enter the transaction log detiails :D 300 W 200 D 100\n",
      "Net balance :200\n"
     ]
    }
   ],
   "source": [
    "log_input=input(\"Enter the transaction log detiails :\")\n",
    "total=0\n",
    "log=log_input.split(' ')\n",
    "for i in range(len(log)):\n",
    "    if log[i]=='D':\n",
    "        total=total+int(log[i+1])\n",
    "    elif log[i]=='W':\n",
    "        total=total-int(log[i+1])       \n",
    "print(\"Net balance :\"+str(total))"
   ]
  },
  {
   "cell_type": "markdown",
   "metadata": {},
   "source": [
    "**18. A website requires the users to input username and password to register. Write a program to check the validity of password input by users.\n",
    "Following are the criteria for checking the password\n",
    "1. At least 1 letter between [a-z]\n",
    "2. At least 1 number between [0-9]\n",
    "1. At least 1 letter between [A-Z]\n",
    "3. At least 1 character from [$#@]\n",
    "4. Minimum length of transaction password: 6\n",
    "5. Maximum length of transaction password: 12\n",
    "Your program should accept a sequence of comma separated passwords and will check them according to the above criteria. Passwords that match the criteria are to be printed, each separated by a comma.\n",
    "If the following passwords are given as input to the program: ABd1234@1,a F1#,2w3E*,2We3345\n",
    "Then, the output of the program should be: ABd1234@1\n",
    "Hints: In case of input data being supplied to the question, it should be assumed to be a console input.**"
   ]
  },
  {
   "cell_type": "code",
   "execution_count": 18,
   "metadata": {},
   "outputs": [
    {
     "name": "stdout",
     "output_type": "stream",
     "text": [
      "Enter a sequence of password :ABd1234@1,a F1#,2w3E,2We3345\n",
      "ABd1234@1\n"
     ]
    }
   ],
   "source": [
    "import re\n",
    "password=input(\"Enter a sequence of password :\")\n",
    "password_list=password.split(',')\n",
    "for i in password_list:\n",
    "    if(len(i) >=6 and len(i) <=12):\n",
    "        if(bool(re.match('^(?=.*[0-9]$)(?=.*[a-zA-Z])(?=.*[$#@])', i))):\n",
    "            print(i)"
   ]
  },
  {
   "cell_type": "markdown",
   "metadata": {},
   "source": [
    "**19. You are required to write a program to sort the (name, age, height) tuples by ascending order where name is string, age and height are numbers. The tuples are input by console. The sort criteria is:\n",
    "1: Sort based on name;\n",
    "2: Then sort based on age;\n",
    "3: Then sort by score.\n",
    "The priority is that name > age > score.\n",
    "If the following tuples are given as input to the program:\n",
    "Tom,19,80\n",
    "John,20,90\n",
    "Jony,17,91\n",
    "Jony,17,93\n",
    "Json,21,85\n",
    "Then, the output of the program should be:\n",
    "[('John', '20', '90'), ('Jony', '17', '91'), ('Jony', '17', '93'), ('Json', '21', '85'), ('Tom', '19', '80')]\n",
    "Hints: In case of input data being supplied to the question, it should be assumed to be a console input. We use itemgetter to enable multiple sort keys.**"
   ]
  },
  {
   "cell_type": "code",
   "execution_count": 19,
   "metadata": {},
   "outputs": [
    {
     "name": "stdout",
     "output_type": "stream",
     "text": [
      "Enter the comma seperated tuples in the form of (Name, age, score) Tom,19,80 John,20,90 Jony,17,91 Jony,17,93 Json,21,85\n"
     ]
    },
    {
     "data": {
      "text/plain": [
       "[('John', '20', '90'),\n",
       " ('Jony', '17', '91'),\n",
       " ('Jony', '17', '93'),\n",
       " ('Json', '21', '85'),\n",
       " ('Tom', '19', '80')]"
      ]
     },
     "execution_count": 19,
     "metadata": {},
     "output_type": "execute_result"
    }
   ],
   "source": [
    "from operator import itemgetter\n",
    "ip=input (\"Enter the comma seperated tuples in the form of (Name, age, score) \")\n",
    "pd=[]\n",
    "for tup in ip.split(' '):\n",
    "    pd.append(tuple(tup.split(\",\")))\n",
    "srtd=sorted(pd,key=itemgetter(0,1,2))\n",
    "srtd"
   ]
  },
  {
   "cell_type": "markdown",
   "metadata": {},
   "source": [
    "**20. Define a class with a generator which can iterate the numbers, which are divisible by 7, between a given range 0 and n.\n",
    "Hints: Consider use yield**"
   ]
  },
  {
   "cell_type": "code",
   "execution_count": 20,
   "metadata": {},
   "outputs": [
    {
     "name": "stdout",
     "output_type": "stream",
     "text": [
      "0\n",
      "7\n",
      "14\n",
      "21\n",
      "28\n",
      "35\n",
      "42\n",
      "49\n",
      "56\n",
      "63\n"
     ]
    }
   ],
   "source": [
    "class gendiv7:\n",
    "    def __init__(self, max):\n",
    "        self.max = max\n",
    "    def PowTwoGen(self):\n",
    "        for i in range(self.max):\n",
    "            if(i%7==0):\n",
    "                yield i\n",
    "g1=gendiv7(70)\n",
    "g=g1.PowTwoGen()\n",
    "for i in g:\n",
    "    print(i)"
   ]
  },
  {
   "cell_type": "markdown",
   "metadata": {},
   "source": [
    "**21. A robot moves in a plane starting from the original point (0,0). The robot can move toward UP, DOWN, LEFT and RIGHT with a given steps. The trace of robot movement is shown as the following:\n",
    "UP 5\n",
    "DOWN 3\n",
    "LEFT 3\n",
    "RIGHT 2\n",
    "¡The\n",
    "numbers after the direction are steps. Please write a program to compute the distance from current position after a sequence of movement and original point. If the distance is a float, then just print the nearest integer.\n",
    "If the following tuples are given as input to the program:\n",
    "UP 5\n",
    "DOWN 3\n",
    "LEFT 3\n",
    "RIGHT 2\n",
    "Then, the output of the program should be: 2\n",
    "Hints: In case of input data being supplied to the question, it should be assumed to be a console input.**"
   ]
  },
  {
   "cell_type": "code",
   "execution_count": 21,
   "metadata": {
    "scrolled": true
   },
   "outputs": [
    {
     "name": "stdout",
     "output_type": "stream",
     "text": [
      "Enter the directions: UP 5 DOWN 3 LEFT 3 RIGHT 2\n",
      "2\n"
     ]
    }
   ],
   "source": [
    "import math\n",
    "x1,y1=0,0\n",
    "x2,y2=0,0\n",
    "ip=input(\"Enter the directions: \")\n",
    "directions=ip.split(' ')\n",
    "for i in range(len(directions)):\n",
    "    if(directions[i]=='UP'):\n",
    "        y2=y2+int(directions[i+1])\n",
    "    elif(directions[i]=='DOWN'):\n",
    "        y2=y2-int(directions[i+1])\n",
    "    elif(directions[i]=='LEFT'):\n",
    "        x2=x2-int(directions[i+1])\n",
    "    elif(directions[i]=='RIGHT'):\n",
    "        x2=x2+int(directions[i+1])   \n",
    "distance=int(math.sqrt(((x2-x1)**2)+((y2-y1)**2)))\n",
    "print(distance)"
   ]
  },
  {
   "cell_type": "markdown",
   "metadata": {},
   "source": [
    "**22. Write a program to compute the frequency of the words from the input. The output should output after sorting the key alphanumerically.\n",
    "Suppose the input is supplied to the program:\n",
    "New to Python or choosing between Python 2 and Python 3? Read Python 2 or Python 3.\n",
    "Then, the output should be:\n",
    "2:2\n",
    "3.:1\n",
    "3?:1\n",
    "New:1\n",
    "Python:5\n",
    "Read:1\n",
    "and:1\n",
    "between:1\n",
    "choosing:1\n",
    "or:2\n",
    "to:1\n",
    "Hints: In case of input data being supplied to the question, it should be assumed to be a console input.**"
   ]
  },
  {
   "cell_type": "code",
   "execution_count": 22,
   "metadata": {},
   "outputs": [
    {
     "name": "stdout",
     "output_type": "stream",
     "text": [
      "Enter the string to be counted New to Python or choosing between Python 2 and Python 3? Read Python 2 or Python 3.\n",
      "2 2\n",
      "3. 1\n",
      "3? 1\n",
      "New 1\n",
      "Python 5\n",
      "Read 1\n",
      "and 1\n",
      "between 1\n",
      "choosing 1\n",
      "or 2\n",
      "to 1\n"
     ]
    }
   ],
   "source": [
    "str1=input(\"Enter the string to be counted \")\n",
    "lst1=str1.split(' ')\n",
    "dict1=dict()\n",
    "for i in lst1:\n",
    "    cnt1=str1.count(i)\n",
    "    dict1.update({i:cnt1})\n",
    "for key in sorted(dict1):\n",
    "    print(key,dict1[key])"
   ]
  },
  {
   "cell_type": "markdown",
   "metadata": {},
   "source": [
    "**23. Write a method which can calculate square value of number\n",
    "Hints: Using the ** operator**"
   ]
  },
  {
   "cell_type": "code",
   "execution_count": 23,
   "metadata": {},
   "outputs": [
    {
     "name": "stdout",
     "output_type": "stream",
     "text": [
      "Enter the number to be squared8\n",
      "64\n"
     ]
    }
   ],
   "source": [
    "numin=input(\"Enter the number to be squared\")\n",
    "num1=int(numin)\n",
    "numout=num1**2\n",
    "print(numout)"
   ]
  },
  {
   "cell_type": "markdown",
   "metadata": {},
   "source": [
    "**24. Python has many built-in functions, and if you do not know how to use it, you can read document online or find some books. But Python has a built-in document function for every\n",
    "built-in functions. Please write a program to print some Python built-in functions documents, such as abs(), int(), raw_input() And add document for your own function\n",
    "Hints: The built-in document method is __doc__**"
   ]
  },
  {
   "cell_type": "code",
   "execution_count": 24,
   "metadata": {},
   "outputs": [
    {
     "name": "stdout",
     "output_type": "stream",
     "text": [
      "Return the absolute value of the argument.\n",
      "=======================================================================\n",
      "int([x]) -> integer\n",
      "int(x, base=10) -> integer\n",
      "\n",
      "Convert a number or string to an integer, or return 0 if no arguments\n",
      "are given.  If x is a number, return x.__int__().  For floating point\n",
      "numbers, this truncates towards zero.\n",
      "\n",
      "If x is not a number or if base is given, then x must be a string,\n",
      "bytes, or bytearray instance representing an integer literal in the\n",
      "given base.  The literal can be preceded by '+' or '-' and be surrounded\n",
      "by whitespace.  The base defaults to 10.  Valid bases are 0 and 2-36.\n",
      "Base 0 means to interpret the base from the string as an integer literal.\n",
      ">>> int('0b100', base=0)\n",
      "4\n",
      "=======================================================================\n",
      "Returns product of two inputs\n",
      "    \n"
     ]
    }
   ],
   "source": [
    "print(abs.__doc__)\n",
    "print(\"=======================================================================\")\n",
    "print(int.__doc__)\n",
    "print(\"=======================================================================\")\n",
    "#print(raw_input().__doc__) #raw_input is no longer included in python\n",
    "def multiply( a , b):\n",
    "    \"\"\"Returns product of two inputs\n",
    "    \"\"\"\n",
    "    c=a*b\n",
    "    return c\n",
    "print(multiply.__doc__)"
   ]
  },
  {
   "cell_type": "markdown",
   "metadata": {},
   "source": [
    "**25. Define a class, which have a class parameter and have a same instance parameter.\n",
    "Hints: Define a instance parameter, need add it in __init__ method\n",
    "You can init a object with construct parameter or set the value later**"
   ]
  },
  {
   "cell_type": "code",
   "execution_count": 25,
   "metadata": {},
   "outputs": [],
   "source": [
    "class dummy:\n",
    "    def __init__(self,a):\n",
    "        self.a = a\n",
    "a=dummy(\"Boring\")"
   ]
  },
  {
   "cell_type": "markdown",
   "metadata": {},
   "source": [
    "**26. Define a function which can compute the sum of two numbers.\n",
    "Hints: Define a function with two numbers as arguments. You can compute the sum in the function and return the value.**"
   ]
  },
  {
   "cell_type": "code",
   "execution_count": 26,
   "metadata": {},
   "outputs": [
    {
     "name": "stdout",
     "output_type": "stream",
     "text": [
      "Enter the 2 numbers to be added :120,147\n",
      "267\n"
     ]
    }
   ],
   "source": [
    "def addnums(a,b):\n",
    "    c=int(a)+int(b)\n",
    "    return(c)\n",
    "inputs=input(\"Enter the 2 numbers to be added :\")\n",
    "num1,num2=inputs.split(',')\n",
    "print(addnums(num1,num2))"
   ]
  },
  {
   "cell_type": "markdown",
   "metadata": {},
   "source": [
    "**27. Define a function that can convert a integer into a string and print it in console.\n",
    "Hints: Use str() to convert a number to string.**"
   ]
  },
  {
   "cell_type": "code",
   "execution_count": 27,
   "metadata": {},
   "outputs": [
    {
     "name": "stdout",
     "output_type": "stream",
     "text": [
      "Enter the number to be converted : 54\n",
      "54 <class 'str'>\n"
     ]
    }
   ],
   "source": [
    "num1=int(input(\"Enter the number to be converted : \"))\n",
    "#num1= 10 #edit the number which you want to convert to integer\n",
    "str1=str(num1)\n",
    "print(str1,type(str1))"
   ]
  },
  {
   "cell_type": "markdown",
   "metadata": {},
   "source": [
    "**28. Define a function that can convert a integer into a string and print it in console.\n",
    "Hints: Use str() to convert a number to string.**"
   ]
  },
  {
   "cell_type": "code",
   "execution_count": 28,
   "metadata": {},
   "outputs": [
    {
     "name": "stdout",
     "output_type": "stream",
     "text": [
      "Enter the numbers to be converted : 27\n",
      "27 <class 'str'>\n"
     ]
    }
   ],
   "source": [
    "## Repeat of the qstn no 27\n",
    "num1=int(input(\"Enter the numbers to be converted : \"))\n",
    "#num1= 10 #edit the number which you want to convert to integer\n",
    "str1=str(num1)\n",
    "print(str1,type(str1))"
   ]
  },
  {
   "cell_type": "markdown",
   "metadata": {},
   "source": [
    "**29. Define a function that can receive two integral numbers in string form and compute their sum and then print it in console.\n",
    "Hints: Use int() to convert a string to integer.**"
   ]
  },
  {
   "cell_type": "code",
   "execution_count": 29,
   "metadata": {},
   "outputs": [
    {
     "name": "stdout",
     "output_type": "stream",
     "text": [
      "Enter the 2 numbers to be added :120,55\n",
      "175\n"
     ]
    }
   ],
   "source": [
    "##qstn no 26 repeat\n",
    "def addnums(a,b):\n",
    "    c=int(a)+int(b)\n",
    "    return(c)\n",
    "inputs=input(\"Enter the 2 numbers to be added :\")\n",
    "num1,num2=inputs.split(',')\n",
    "print(addnums(num1,num2))"
   ]
  },
  {
   "cell_type": "markdown",
   "metadata": {},
   "source": [
    "**30. Define a function that can accept two strings as input and concatenate them and then print it in console.\n",
    "Hints: Use + to concatenate the strings**"
   ]
  },
  {
   "cell_type": "code",
   "execution_count": 30,
   "metadata": {},
   "outputs": [
    {
     "name": "stdout",
     "output_type": "stream",
     "text": [
      "enter the 2 strings seperated by commaLaaa,deee\n",
      "Laaadeee\n"
     ]
    }
   ],
   "source": [
    "input1=input(\"enter the 2 strings seperated by comma\")\n",
    "str1,str2=input1.split(',')\n",
    "print(str1+str2)"
   ]
  },
  {
   "cell_type": "markdown",
   "metadata": {},
   "source": [
    "**31. Define a function that can accept two strings as input and print the string with maximum length in console. If two strings have the same length, then the function should print al l strings line by line.\n",
    "Hints: Use len() function to get the length of a string**"
   ]
  },
  {
   "cell_type": "code",
   "execution_count": 31,
   "metadata": {},
   "outputs": [
    {
     "name": "stdout",
     "output_type": "stream",
     "text": [
      "Enter 2 strings seperated by comma: Helloworld,Bye\n",
      "Helloworld\n"
     ]
    }
   ],
   "source": [
    "input1=input(\"Enter 2 strings seperated by comma: \")\n",
    "str1,str2=input1.split(',')\n",
    "if(len(str1)>len(str2)):\n",
    " print(str1)\n",
    "elif(len(str1)<len(str2)):\n",
    " print(str2)\n",
    "else:\n",
    " print(str1+'\\n'+str2)"
   ]
  },
  {
   "cell_type": "markdown",
   "metadata": {},
   "source": [
    "**32. Define a function that can accept an integer number as input and print the \"It is an even number\" if the number is even, otherwise print \"It is an odd number\".\n",
    "Hints: Use % operator to check if a number is even or odd.**"
   ]
  },
  {
   "cell_type": "code",
   "execution_count": 32,
   "metadata": {},
   "outputs": [
    {
     "name": "stdout",
     "output_type": "stream",
     "text": [
      "enter the number :15\n",
      "Its an odd number\n"
     ]
    }
   ],
   "source": [
    "input1=input(\"enter the number :\")\n",
    "# num1=int(input1)\n",
    "if(int(input1)%2==0):\n",
    "    print(\"Its an even number\")\n",
    "else:\n",
    "    print(\"Its an odd number\")"
   ]
  },
  {
   "cell_type": "markdown",
   "metadata": {},
   "source": [
    "**33. Define a function which can print a dictionary where the keys are numbers between 1 and 3 (both included) and the values are square of keys.\n",
    "Hints: Use dict[key]=value pattern to put entry into a dictionary.Use * * operator to get power of a number.**"
   ]
  },
  {
   "cell_type": "code",
   "execution_count": 33,
   "metadata": {},
   "outputs": [
    {
     "data": {
      "text/plain": [
       "{1: 1, 2: 4, 3: 9}"
      ]
     },
     "execution_count": 33,
     "metadata": {},
     "output_type": "execute_result"
    }
   ],
   "source": [
    "def createdict(a,b):\n",
    "    dict1=dict()\n",
    "    for i in range(a,b+1):\n",
    "        dict1[i]=i**2\n",
    "    return(dict1)\n",
    "opdict=createdict(1,3)\n",
    "opdict"
   ]
  },
  {
   "cell_type": "markdown",
   "metadata": {},
   "source": [
    "**34. Define a function which can print a dictionary where the keys are numbers between 1 and 20 (both included) and the values are square of keys.\n",
    "Hints: Use dict[key]=value pattern to put entry into a dictionary.\n",
    "Use ** operator to get power of a number. Use range() for loops.**"
   ]
  },
  {
   "cell_type": "code",
   "execution_count": 34,
   "metadata": {},
   "outputs": [
    {
     "data": {
      "text/plain": [
       "{1: 1,\n",
       " 2: 4,\n",
       " 3: 9,\n",
       " 4: 16,\n",
       " 5: 25,\n",
       " 6: 36,\n",
       " 7: 49,\n",
       " 8: 64,\n",
       " 9: 81,\n",
       " 10: 100,\n",
       " 11: 121,\n",
       " 12: 144,\n",
       " 13: 169,\n",
       " 14: 196,\n",
       " 15: 225,\n",
       " 16: 256,\n",
       " 17: 289,\n",
       " 18: 324,\n",
       " 19: 361,\n",
       " 20: 400}"
      ]
     },
     "execution_count": 34,
     "metadata": {},
     "output_type": "execute_result"
    }
   ],
   "source": [
    "def createdict(a,b):\n",
    "    dict1=dict()\n",
    "    for i in range(a,b+1):\n",
    "        dict1[i]=i**2\n",
    "    return(dict1)\n",
    "opdict=createdict(1,20)\n",
    "opdict"
   ]
  },
  {
   "cell_type": "markdown",
   "metadata": {},
   "source": [
    "**35. Define a function which can generate a dictionary where the keys are numbers between 1 and 20 (both included) and the values are square of keys. The function should just print the values only.\n",
    "Hints: Use dict[key]=value pattern to put entry into a dictionary. Use ** operator to get power of a number. Use range() for loops. Use keys() to iterate keys in the dictionary. Also we can use item() to get key/value pairs.**"
   ]
  },
  {
   "cell_type": "code",
   "execution_count": 35,
   "metadata": {},
   "outputs": [
    {
     "name": "stdout",
     "output_type": "stream",
     "text": [
      "dict_values([1, 4, 9, 16, 25, 36, 49, 64, 81, 100, 121, 144, 169, 196, 225, 256, 289, 324, 361, 400])\n"
     ]
    }
   ],
   "source": [
    "def createdict(a,b):\n",
    "    dict1=dict()\n",
    "    for i in range(a,b+1):\n",
    "        dict1[i]=i**2\n",
    "    return(dict1)\n",
    "opdict=createdict(1,20)\n",
    "print(opdict.values())"
   ]
  },
  {
   "cell_type": "markdown",
   "metadata": {},
   "source": [
    "**36. Define a function which can generate a dictionary where the keys are numbers between 1 and 20 (both included) and the values are square of keys. The function should just print the keys only.\n",
    "Hints: Use dict[key]=value pattern to put entry into a dictionary. Use ** operator to get power of a number. Use range() for loops. Use keys() to iterate keys in the dictionary. Also we can use item() to get key/value pairs.**"
   ]
  },
  {
   "cell_type": "code",
   "execution_count": 36,
   "metadata": {},
   "outputs": [
    {
     "name": "stdout",
     "output_type": "stream",
     "text": [
      "dict_keys([1, 2, 3, 4, 5, 6, 7, 8, 9, 10, 11, 12, 13, 14, 15, 16, 17, 18, 19, 20])\n"
     ]
    }
   ],
   "source": [
    "def createdict(a,b):\n",
    "    dict1=dict()\n",
    "    for i in range(a,b+1):\n",
    "        dict1[i]=i**2\n",
    "    return(dict1)\n",
    "opdict=createdict(1,20)\n",
    "print(opdict.keys())"
   ]
  },
  {
   "cell_type": "markdown",
   "metadata": {},
   "source": [
    "**37. Define a function which can generate and print a list where the values are square of numbers between 1 and 20 (both included).\n",
    "Hints: Use ** operator to get power of a number. Use range() for loops. Use list.append() to add values into a list.**"
   ]
  },
  {
   "cell_type": "code",
   "execution_count": 37,
   "metadata": {},
   "outputs": [
    {
     "data": {
      "text/plain": [
       "[1,\n",
       " 4,\n",
       " 9,\n",
       " 16,\n",
       " 25,\n",
       " 36,\n",
       " 49,\n",
       " 64,\n",
       " 81,\n",
       " 100,\n",
       " 121,\n",
       " 144,\n",
       " 169,\n",
       " 196,\n",
       " 225,\n",
       " 256,\n",
       " 289,\n",
       " 324,\n",
       " 361,\n",
       " 400]"
      ]
     },
     "execution_count": 37,
     "metadata": {},
     "output_type": "execute_result"
    }
   ],
   "source": [
    "oplst=[]\n",
    "def sqrnums(a,b):\n",
    "    lst=[]\n",
    "    for i in range(a,b+1):\n",
    "        lst.append(i**2)\n",
    "    return lst\n",
    "oplst=sqrnums(1,20)\n",
    "oplst"
   ]
  },
  {
   "cell_type": "markdown",
   "metadata": {},
   "source": [
    "**38. Define a function which can generate a list where the values are square of numbers between 1 and 20 (both included). Then the function needs to print the first 5 elements in the list.\n",
    "Hints: Use ** operator to get power of a number. Use range() for loops. Use list.append() to add values into a list. Use [n1:n2] to slice a list**"
   ]
  },
  {
   "cell_type": "code",
   "execution_count": 38,
   "metadata": {},
   "outputs": [
    {
     "data": {
      "text/plain": [
       "[1, 4, 9, 16, 25]"
      ]
     },
     "execution_count": 38,
     "metadata": {},
     "output_type": "execute_result"
    }
   ],
   "source": [
    "oplst=[]\n",
    "def sqrnums(a,b):\n",
    "    lst=[]\n",
    "    for i in range(a,b):\n",
    "        lst.append(i**2)\n",
    "    return lst\n",
    "oplst=sqrnums(1,21)\n",
    "oplst[0:5]"
   ]
  },
  {
   "cell_type": "markdown",
   "metadata": {},
   "source": [
    "**39. Define a function which can generate a list where the values are square of numbers between 1 and 20 (both included). Then the function needs to print the last 5 elements in the list.\n",
    "Hints: Use ** operator to get power of a number. Use range() for loops. Use list.append() to add values into a list. Use [n1:n2] to slice a list**"
   ]
  },
  {
   "cell_type": "code",
   "execution_count": 39,
   "metadata": {},
   "outputs": [
    {
     "data": {
      "text/plain": [
       "[256, 289, 324, 361, 400]"
      ]
     },
     "execution_count": 39,
     "metadata": {},
     "output_type": "execute_result"
    }
   ],
   "source": [
    "oplst=[]\n",
    "def sqrnums(a,b):\n",
    "    lst=[]\n",
    "    for i in range(a,b):\n",
    "        lst.append(i**2)\n",
    "    return lst\n",
    "oplst=sqrnums(1,21)\n",
    "oplst[-5:]"
   ]
  },
  {
   "cell_type": "markdown",
   "metadata": {},
   "source": [
    "**40. Define a function which can generate a list where the values are square of numbers between 1 and 20 (both included). Then the function needs to print all values except the first 5 elements in the list.\n",
    "Hints: Use ** operator to get power of a number. Use range() for loops. Use list.append() to add values into a list. Use [n1:n2] to slice a list**"
   ]
  },
  {
   "cell_type": "code",
   "execution_count": 40,
   "metadata": {},
   "outputs": [
    {
     "data": {
      "text/plain": [
       "[36, 49, 64, 81, 100, 121, 144, 169, 196, 225, 256, 289, 324, 361, 400]"
      ]
     },
     "execution_count": 40,
     "metadata": {},
     "output_type": "execute_result"
    }
   ],
   "source": [
    "oplst=[]\n",
    "def sqrnums(a,b):\n",
    "    lst=[]\n",
    "    for i in range(a,b):\n",
    "        lst.append(i**2)\n",
    "    return lst\n",
    "oplst=sqrnums(1,21)\n",
    "oplst[5:]"
   ]
  },
  {
   "cell_type": "markdown",
   "metadata": {},
   "source": [
    "**41. Define a function which can generate and print a tuple where the value are square of numbers between 1 and 20 (both included).\n",
    "Hints: Use ** operator to get power of a number. Use range() for loops. Use list.append() to add values into a list. Use tuple() to get a tuple from a list.**"
   ]
  },
  {
   "cell_type": "code",
   "execution_count": 41,
   "metadata": {},
   "outputs": [
    {
     "data": {
      "text/plain": [
       "(1,\n",
       " 4,\n",
       " 9,\n",
       " 16,\n",
       " 25,\n",
       " 36,\n",
       " 49,\n",
       " 64,\n",
       " 81,\n",
       " 100,\n",
       " 121,\n",
       " 144,\n",
       " 169,\n",
       " 196,\n",
       " 225,\n",
       " 256,\n",
       " 289,\n",
       " 324,\n",
       " 361,\n",
       " 400)"
      ]
     },
     "execution_count": 41,
     "metadata": {},
     "output_type": "execute_result"
    }
   ],
   "source": [
    "t1=()\n",
    "oplst=[]\n",
    "def sqrnums(a,b):\n",
    "    lst=[]\n",
    "    for i in range(a,b):\n",
    "        lst.append(i**2)\n",
    "    return lst\n",
    "oplst=sqrnums(1,21)\n",
    "t1=tuple(oplst)\n",
    "t1"
   ]
  },
  {
   "cell_type": "markdown",
   "metadata": {},
   "source": [
    "**42. With a given tuple (1,2,3,4,5,6,7,8,9,10), write a program to print the first half values in one line and the last half values in one line.\n",
    "Hints: Use [n1:n2] notation to get a slice from a tuple.**"
   ]
  },
  {
   "cell_type": "code",
   "execution_count": 42,
   "metadata": {},
   "outputs": [
    {
     "name": "stdout",
     "output_type": "stream",
     "text": [
      "(1, 2, 3, 4, 5)\n",
      "(6, 7, 8, 9, 10)\n"
     ]
    }
   ],
   "source": [
    "t1=(1,2,3,4,5,6,7,8,9,10)\n",
    "print(t1[0:5])\n",
    "print(t1[5:])"
   ]
  },
  {
   "cell_type": "markdown",
   "metadata": {},
   "source": [
    "**43. Write a program to generate and print another tuple whose values are even numbers in the given tuple (1,2,3,4,5,6,7,8,9,10).\n",
    "Hints: Use \"for\" to iterate the tuple. Use tuple() to generate a tuple from a list.**"
   ]
  },
  {
   "cell_type": "code",
   "execution_count": 43,
   "metadata": {},
   "outputs": [
    {
     "data": {
      "text/plain": [
       "(2, 4, 6, 8, 10)"
      ]
     },
     "execution_count": 43,
     "metadata": {},
     "output_type": "execute_result"
    }
   ],
   "source": [
    "t1=(1,2,3,4,5,6,7,8,9,10)\n",
    "l1=[]\n",
    "for i in t1:\n",
    "    if((i%2)==0):\n",
    "        l1.append(i)\n",
    "t2=tuple(l1)\n",
    "t2"
   ]
  },
  {
   "cell_type": "markdown",
   "metadata": {},
   "source": [
    "**44. Write a program which accepts a string as input to print \"Yes\" if the string is \"yes\" or \"YES\" or \"Yes\", otherwise print \"No\".\n",
    "Hints: Use if statement to judge condition.**"
   ]
  },
  {
   "cell_type": "code",
   "execution_count": 44,
   "metadata": {},
   "outputs": [
    {
     "name": "stdout",
     "output_type": "stream",
     "text": [
      "Enter the input :yes\n",
      "Yes\n"
     ]
    }
   ],
   "source": [
    "s1=input(\"Enter the input :\")\n",
    "if (s1.lower()==\"yes\"):\n",
    "    print(\"Yes\")\n",
    "else:\n",
    "    print(\"No\")"
   ]
  },
  {
   "cell_type": "markdown",
   "metadata": {},
   "source": [
    "**45. Write a program which can filter even numbers in a list by using filter function. The list is: [1,2,3,4,5,6,7,8,9,10].\n",
    "Hints: use filter() to filter some elements in a list. Use lambda to define anonymous functions.**"
   ]
  },
  {
   "cell_type": "code",
   "execution_count": 45,
   "metadata": {},
   "outputs": [
    {
     "data": {
      "text/plain": [
       "[2, 4, 6, 8, 10]"
      ]
     },
     "execution_count": 45,
     "metadata": {},
     "output_type": "execute_result"
    }
   ],
   "source": [
    "l1=list(filter(lambda i: i%2==0,[1,2,3,4,5,6,7,8,9,10]))\n",
    "l1"
   ]
  },
  {
   "cell_type": "markdown",
   "metadata": {},
   "source": [
    "**46. Write a program which can map() to make a list whose elements are square of elements in [1,2,3,4,5,6,7,8,9,10].\n",
    "Hints: Use map() to generate a list. Use lambda to define anonymous functions.**"
   ]
  },
  {
   "cell_type": "code",
   "execution_count": 46,
   "metadata": {},
   "outputs": [
    {
     "data": {
      "text/plain": [
       "[1, 4, 9, 16, 25, 36, 49, 64, 81, 100]"
      ]
     },
     "execution_count": 46,
     "metadata": {},
     "output_type": "execute_result"
    }
   ],
   "source": [
    "l1=list(map(lambda i: i**2,[1,2,3,4,5,6,7,8,9,10]))\n",
    "l1"
   ]
  },
  {
   "cell_type": "markdown",
   "metadata": {},
   "source": [
    "**47. Write a program which can map() and filter() to make a list whose elements are square of even number in [1,2,3,4,5,6,7,8,9,10].\n",
    "Hints: Use map() to generate a list. Use filter() to filter elements of a list. Use lambda to define anonymous functions.**"
   ]
  },
  {
   "cell_type": "code",
   "execution_count": 47,
   "metadata": {},
   "outputs": [
    {
     "data": {
      "text/plain": [
       "[4, 16, 36, 64, 100]"
      ]
     },
     "execution_count": 47,
     "metadata": {},
     "output_type": "execute_result"
    }
   ],
   "source": [
    "l1=list(filter(lambda j: j%2==0,list(map(lambda i: i**2,[1,2,3,4,5,6,7,8,9,10]))))\n",
    "l1"
   ]
  },
  {
   "cell_type": "markdown",
   "metadata": {},
   "source": [
    "**48. Write a program which can filter() to make a list whose elements are even number between 1 and 20 (both included).Hints: Use filter() to filter elements of a list. Use lambda to define anonymous functions.**"
   ]
  },
  {
   "cell_type": "code",
   "execution_count": 48,
   "metadata": {},
   "outputs": [
    {
     "data": {
      "text/plain": [
       "[2, 4, 6, 8, 10, 12, 14, 16, 18, 20]"
      ]
     },
     "execution_count": 48,
     "metadata": {},
     "output_type": "execute_result"
    }
   ],
   "source": [
    "list1=(list(filter(lambda i: i%2==0,range(1,21))))\n",
    "list1"
   ]
  },
  {
   "cell_type": "markdown",
   "metadata": {},
   "source": [
    "**49. Write a program which can map() to make a list whose elements are square of numbers between 1 and 20 (both included).\n",
    "Hints: Use map() to generate a list. Use lambda to define anonymous functions.**"
   ]
  },
  {
   "cell_type": "code",
   "execution_count": 49,
   "metadata": {},
   "outputs": [
    {
     "data": {
      "text/plain": [
       "[1,\n",
       " 4,\n",
       " 9,\n",
       " 16,\n",
       " 25,\n",
       " 36,\n",
       " 49,\n",
       " 64,\n",
       " 81,\n",
       " 100,\n",
       " 121,\n",
       " 144,\n",
       " 169,\n",
       " 196,\n",
       " 225,\n",
       " 256,\n",
       " 289,\n",
       " 324,\n",
       " 361,\n",
       " 400]"
      ]
     },
     "execution_count": 49,
     "metadata": {},
     "output_type": "execute_result"
    }
   ],
   "source": [
    "list1=(list(map(lambda i: i**2,range(1,21))))\n",
    "list1"
   ]
  },
  {
   "cell_type": "markdown",
   "metadata": {},
   "source": [
    "**50. Define a class named American which has a static method called printNationality.\n",
    "Hints: Use @staticmethod decorator to define class static method.**"
   ]
  },
  {
   "cell_type": "code",
   "execution_count": 50,
   "metadata": {},
   "outputs": [
    {
     "name": "stdout",
     "output_type": "stream",
     "text": [
      "My nationality is american\n"
     ]
    }
   ],
   "source": [
    "class American:\n",
    "    @staticmethod\n",
    "    def printNationality():\n",
    "        print(\"My nationality is american\")\n",
    "American().printNationality()"
   ]
  },
  {
   "cell_type": "markdown",
   "metadata": {},
   "source": [
    "**51. Define a class named American and its subclass NewYorker.\n",
    "Hints: Use class Subclass(ParentClass) to define a subclass.**"
   ]
  },
  {
   "cell_type": "code",
   "execution_count": 53,
   "metadata": {},
   "outputs": [],
   "source": [
    "class American:\n",
    "    def __init__(self):\n",
    "        pass\n",
    "class NewYorker(American):\n",
    "    def __init__(self):\n",
    "        pass"
   ]
  },
  {
   "cell_type": "markdown",
   "metadata": {},
   "source": [
    "**52. Define a class named Circle which can be constructed by a radius. The Circle class has a method which can compute the area.\n",
    "Hints: Use def methodName(self) to define a method.**"
   ]
  },
  {
   "cell_type": "code",
   "execution_count": 54,
   "metadata": {},
   "outputs": [
    {
     "name": "stdout",
     "output_type": "stream",
     "text": [
      "28.26\n"
     ]
    }
   ],
   "source": [
    "class Circle:\n",
    "    def __init__(self,radius):\n",
    "        self.radius=radius\n",
    "    def findarea(self):\n",
    "        area=3.14*(self.radius**2)\n",
    "        print(area)\n",
    "c1=Circle(3)\n",
    "c1.findarea()"
   ]
  },
  {
   "cell_type": "markdown",
   "metadata": {},
   "source": [
    "**53. Define a class named Rectangle which can be constructed by a length and width. The Rectangle class has a method which can compute the area.\n",
    "Hints: Use def methodName(self) to define a method.**"
   ]
  },
  {
   "cell_type": "code",
   "execution_count": 55,
   "metadata": {},
   "outputs": [
    {
     "name": "stdout",
     "output_type": "stream",
     "text": [
      "12\n"
     ]
    }
   ],
   "source": [
    "class Rectangle:\n",
    "    def __init__(self,length,width):\n",
    "        self.length=length\n",
    "        self.width=width\n",
    "    def findarea(self):\n",
    "        area=self.length*self.width\n",
    "        print(area)\n",
    "r1=Rectangle(3,4)\n",
    "r1.findarea()"
   ]
  },
  {
   "cell_type": "markdown",
   "metadata": {},
   "source": [
    "**54. Define a class named Shape and its subclass Square. The Square class has an init function which takes a length as argument. Both classes have a area function which can print the area of the shape where Shape's area is 0 by default.\n",
    "Hints: To override a method in super class, we can define a method with the same name in the super class.**"
   ]
  },
  {
   "cell_type": "code",
   "execution_count": 56,
   "metadata": {},
   "outputs": [
    {
     "name": "stdout",
     "output_type": "stream",
     "text": [
      "16\n"
     ]
    }
   ],
   "source": [
    "class shape:                                \n",
    "    def __init__(self):\n",
    "        print(\"this is root class\")\n",
    "    def area():\n",
    "        print('Default area of the shapes is zero')\n",
    "class square(shape):\n",
    "    def __init__(self,length=0): #define default parameter. length =0, default value for area 0\n",
    "        self.length=length\n",
    "    def area(self):\n",
    "        sqarea=self.length*self.length\n",
    "        print(sqarea)\n",
    "s1=square(4)\n",
    "s1.area()"
   ]
  },
  {
   "cell_type": "markdown",
   "metadata": {},
   "source": [
    "**55. Write a function to compute 5/0 and use try/except to catch the exceptions.\n",
    "Hints: Use try/except to catch exceptions.**"
   ]
  },
  {
   "cell_type": "code",
   "execution_count": 57,
   "metadata": {},
   "outputs": [
    {
     "name": "stdout",
     "output_type": "stream",
     "text": [
      "divide by zero error\n"
     ]
    }
   ],
   "source": [
    "def by_zero(a,b):\n",
    "    try:\n",
    "        c=a/b\n",
    "    except:\n",
    "            print(\"divide by zero error\")\n",
    "by_zero(5,0)    "
   ]
  },
  {
   "cell_type": "markdown",
   "metadata": {},
   "source": [
    "**56. Define a custom exception class which takes a string message as attribute.\n",
    "Hints: To define a custom exception, we need to define a class inherited from Exception.**"
   ]
  },
  {
   "cell_type": "code",
   "execution_count": 58,
   "metadata": {},
   "outputs": [
    {
     "ename": "Custom",
     "evalue": "Zerovalue",
     "output_type": "error",
     "traceback": [
      "\u001b[0;31m---------------------------------------------------------------------------\u001b[0m",
      "\u001b[0;31mCustom\u001b[0m                                    Traceback (most recent call last)",
      "\u001b[0;32m<ipython-input-58-3fcb39f915c2>\u001b[0m in \u001b[0;36m<module>\u001b[0;34m\u001b[0m\n\u001b[1;32m      2\u001b[0m     \u001b[0;32mdef\u001b[0m \u001b[0m__init__\u001b[0m\u001b[0;34m(\u001b[0m\u001b[0mself\u001b[0m\u001b[0;34m,\u001b[0m\u001b[0mmessage\u001b[0m\u001b[0;34m)\u001b[0m\u001b[0;34m:\u001b[0m\u001b[0;34m\u001b[0m\u001b[0;34m\u001b[0m\u001b[0m\n\u001b[1;32m      3\u001b[0m         \u001b[0mself\u001b[0m\u001b[0;34m.\u001b[0m\u001b[0mmessage\u001b[0m\u001b[0;34m=\u001b[0m\u001b[0mmessage\u001b[0m\u001b[0;34m\u001b[0m\u001b[0;34m\u001b[0m\u001b[0m\n\u001b[0;32m----> 4\u001b[0;31m \u001b[0;32mraise\u001b[0m \u001b[0mCustom\u001b[0m\u001b[0;34m(\u001b[0m\u001b[0;34m'Zerovalue'\u001b[0m\u001b[0;34m)\u001b[0m\u001b[0;34m\u001b[0m\u001b[0;34m\u001b[0m\u001b[0m\n\u001b[0m",
      "\u001b[0;31mCustom\u001b[0m: Zerovalue"
     ]
    }
   ],
   "source": [
    "class Custom(Exception):\n",
    "    def __init__(self,message):\n",
    "        self.message=message\n",
    "raise Custom('Zerovalue')"
   ]
  },
  {
   "cell_type": "markdown",
   "metadata": {},
   "source": [
    "**57. Assuming that we have some email addresses in the \"username@companyname.com\" format, please write program to print the user name of a given email address. Both user names and company names are composed of letters only.\n",
    "If the following email address is given as input to the program: Chandra@analytixlabs.com\n",
    "Then, the output of the program should be: ChandraHints: Use \\w to match letters. In case of input data being supplied to the question, it should be assumed to be a console input.\n",
    "**"
   ]
  },
  {
   "cell_type": "code",
   "execution_count": 59,
   "metadata": {},
   "outputs": [
    {
     "name": "stdout",
     "output_type": "stream",
     "text": [
      "enter the email addressChandra@analytixlabs.com\n",
      "Chandra\n"
     ]
    }
   ],
   "source": [
    "import re\n",
    "email=input(\"enter the email address\")\n",
    "regexpat=r'([\\w\\.-]+)@([\\w\\.-]+)'\n",
    "match=re.search(regexpat,email)\n",
    "if not match is None:\n",
    "    print (match.group(1))\n",
    "else:\n",
    "    print(\"Did not match\")"
   ]
  },
  {
   "cell_type": "markdown",
   "metadata": {},
   "source": [
    "**58. Assuming that we have some email addresses in the \"username@companyname.com\" format, please write program to print the company name of a given email address. Both user names and company names are composed of letters only.\n",
    "If the following email address is given as input to the program: Chandra@analytixlabs.com\n",
    "Then, the output of the program should be: analytixlabs\n",
    "In case of input data being supplied to the question, it should be assumed to be a console input.Hints: Use \\w to match letters**"
   ]
  },
  {
   "cell_type": "code",
   "execution_count": 60,
   "metadata": {},
   "outputs": [
    {
     "name": "stdout",
     "output_type": "stream",
     "text": [
      "enter the email addressChandra@analytixlabs.com\n",
      "analytixlabs\n"
     ]
    }
   ],
   "source": [
    "import re\n",
    "email=input(\"enter the email address\")\n",
    "regexpat=r'([\\w\\.-]+)@([\\w-]+)'\n",
    "match=re.search(regexpat,email)\n",
    "if not match is None:\n",
    "    print (match.group(2))\n",
    "else:\n",
    "    print(\"Did not match\")"
   ]
  },
  {
   "cell_type": "markdown",
   "metadata": {},
   "source": [
    "**59. Write a program which accepts a sequence of words separated by whitespace as input to print the words composed of digits only.\n",
    "If the following words are given as input to the program: 2 cats and 3 dogs.\n",
    "Then, the output of the program should be: ['2', '3']\n",
    "In case of input data being supplied to the question, it should be assumed to be a console input.\n",
    "Hints: Use re.findall() to find all substring using regex.\n",
    "**"
   ]
  },
  {
   "cell_type": "code",
   "execution_count": 61,
   "metadata": {},
   "outputs": [
    {
     "name": "stdout",
     "output_type": "stream",
     "text": [
      "Enter the mix of digits and strings seperated by white space :2 cats and 3 dogs\n"
     ]
    },
    {
     "data": {
      "text/plain": [
       "['2', '3']"
      ]
     },
     "execution_count": 61,
     "metadata": {},
     "output_type": "execute_result"
    }
   ],
   "source": [
    "inpt1=input(\"Enter the mix of digits and strings seperated by white space :\")\n",
    "digits=re.findall(r'\\d',inpt1)\n",
    "digits"
   ]
  },
  {
   "cell_type": "markdown",
   "metadata": {},
   "source": [
    "**60. Print a unicode string \"hello world\".\n",
    "Hints: Use u'strings' format to define unicode string.**"
   ]
  },
  {
   "cell_type": "code",
   "execution_count": 62,
   "metadata": {},
   "outputs": [
    {
     "data": {
      "text/plain": [
       "'Hello world'"
      ]
     },
     "execution_count": 62,
     "metadata": {},
     "output_type": "execute_result"
    }
   ],
   "source": [
    "str1=u'Hello world'\n",
    "str1"
   ]
  },
  {
   "cell_type": "markdown",
   "metadata": {},
   "source": [
    "**61. Write a program to read an ASCII string and to convert it to a unicode string encoded by utf-8.\n",
    "Hints: Use unicode() function to convert.**\n"
   ]
  },
  {
   "cell_type": "code",
   "execution_count": 63,
   "metadata": {},
   "outputs": [
    {
     "name": "stdout",
     "output_type": "stream",
     "text": [
      "Enter the string : 104 101 108 108 111 032\n"
     ]
    },
    {
     "data": {
      "text/plain": [
       "b'104 101 108 108 111 032'"
      ]
     },
     "execution_count": 63,
     "metadata": {},
     "output_type": "execute_result"
    }
   ],
   "source": [
    "str1=input(\"Enter the string : \")  ## is there any other function\n",
    "#str1=\"104 101 108 108 111 032 119 111 114 108 100\"\n",
    "str2=str1.encode('utf-8') # unicode to str\n",
    "str2"
   ]
  },
  {
   "cell_type": "markdown",
   "metadata": {},
   "source": [
    "**62. Write a special comment to indicate a Python source code file is in unicode.**"
   ]
  },
  {
   "cell_type": "code",
   "execution_count": 64,
   "metadata": {},
   "outputs": [],
   "source": [
    "# coding=<utf-8>"
   ]
  },
  {
   "cell_type": "markdown",
   "metadata": {},
   "source": [
    "**63. Write a program to compute 1/2+2/3+3/4+...+n/n+1 with a given n input by console (n>0).\n",
    "If the following n is given as input to the program: 5\n",
    "Then, the output of the program should be: 3.55  In case of input data being supplied to the question, it should be assumed to be a console input.\n",
    "Hints: Use float() to convert an integer to a float**"
   ]
  },
  {
   "cell_type": "code",
   "execution_count": 65,
   "metadata": {},
   "outputs": [
    {
     "name": "stdout",
     "output_type": "stream",
     "text": [
      "enter the value n5\n",
      "3.5500000000000003\n"
     ]
    }
   ],
   "source": [
    "n1=input(\"enter the value n\")\n",
    "n=int(n1)\n",
    "tot=0\n",
    "for i in range(1,n+1):\n",
    "    tot=tot+(i/(i+1))\n",
    "print(tot)    "
   ]
  },
  {
   "cell_type": "markdown",
   "metadata": {},
   "source": [
    "**64. Write a program to compute:\n",
    "f(n)=f(n-1)+100 when n>0\n",
    "and f(0)=1\n",
    "with a given n input by console (n>0).\n",
    "If the following n is given as input to the program: 5\n",
    "Then, the output of the program should be: 500\n",
    "In case of input data being supplied to the question, it should be assumed to be a console input.\n",
    "Hints: We can define recursive function in Python.**"
   ]
  },
  {
   "cell_type": "code",
   "execution_count": 66,
   "metadata": {},
   "outputs": [
    {
     "name": "stdout",
     "output_type": "stream",
     "text": [
      "enter the n value :5\n"
     ]
    },
    {
     "data": {
      "text/plain": [
       "501"
      ]
     },
     "execution_count": 66,
     "metadata": {},
     "output_type": "execute_result"
    }
   ],
   "source": [
    "def calfun(n): ######################## how does it come to 500???????????????/\n",
    "    if (n==0):\n",
    "        return 1\n",
    "    else:\n",
    "        return(calfun(n-1)+100)\n",
    "\n",
    "n2=input(\"enter the n value :\")\n",
    "n=int(n2)\n",
    "calfun(n)"
   ]
  },
  {
   "cell_type": "markdown",
   "metadata": {},
   "source": [
    "**65. The Fibonacci sequence is computed based on the following formula:\n",
    "f(n)=0 if n=0\n",
    "f(n)=1 if n=1\n",
    "f(n)=f(n-1)+f(n-2) if n>1\n",
    "Please write a program to compute the value of f(n) with a given n input by console.\n",
    "If the following n is given as input to the program: 7\n",
    "Then, the output of the program should be: 13\n",
    "In case of input data being supplied to the question, it should be assumed to be a console input.\n",
    "Hints: We can define recursive function in Python.**"
   ]
  },
  {
   "cell_type": "code",
   "execution_count": 67,
   "metadata": {},
   "outputs": [
    {
     "name": "stdout",
     "output_type": "stream",
     "text": [
      "Enter the n value 7\n",
      "13\n"
     ]
    }
   ],
   "source": [
    "def fibseq(n):\n",
    "    if n<=1:\n",
    "        return n\n",
    "    else:\n",
    "        return(fibseq(n-1) + fibseq(n-2))\n",
    "        \n",
    "    \n",
    "n1=input(\"Enter the n value \")\n",
    "n=int(n1)\n",
    "print(fibseq(n))"
   ]
  },
  {
   "cell_type": "markdown",
   "metadata": {},
   "source": [
    "**66. The Fibonacci sequence is computed based on the following formula:\n",
    "f(n)=0 if n=0\n",
    "f(n)=1 if n=1\n",
    "f(n)=f(n-1)+f(n-2) if n>1\n",
    "Please write a program using list comprehension to print the Fibonacci sequence in comma separated form with a given n input by console.\n",
    "If the following n is given as input to the program: 7\n",
    "Then, the output of the program should be: 0, 1, 1, 2, 3, 5, 8, 13\n",
    "Hints: We can define recursive function in Python. Use list comprehension to generate a list from an existing list. Use string.join() to join a list of strings. In case of input data being supplied to the question, it should be assumed to be a console input.**"
   ]
  },
  {
   "cell_type": "code",
   "execution_count": 68,
   "metadata": {},
   "outputs": [
    {
     "name": "stdout",
     "output_type": "stream",
     "text": [
      "Enter the n value :7\n"
     ]
    },
    {
     "data": {
      "text/plain": [
       "[0, 1, 1, 2, 3, 5, 8, 13]"
      ]
     },
     "execution_count": 68,
     "metadata": {},
     "output_type": "execute_result"
    }
   ],
   "source": [
    "def fibseq(n):\n",
    "    if n<=1:\n",
    "        return n\n",
    "    else:\n",
    "        return(fibseq(n-1) + fibseq(n-2))   \n",
    "n1=input(\"Enter the n value :\")\n",
    "n=int(n1)\n",
    "a=[fibseq(i) for i in range(n+1)]\n",
    "a"
   ]
  },
  {
   "cell_type": "markdown",
   "metadata": {},
   "source": [
    "**67. Please write a program using generator to print the even numbers between 0 and n in comma separated form while n is input by console.\n",
    "Example: If the following n is given as input to the program: 10\n",
    "Then, the output of the program should be: 0,2,4,6,8,10\n",
    "Hints: Use yield to produce the next value in generator. In case of input data being supplied to the question, it should be assumed to be a console input.**"
   ]
  },
  {
   "cell_type": "code",
   "execution_count": 69,
   "metadata": {},
   "outputs": [
    {
     "name": "stdout",
     "output_type": "stream",
     "text": [
      "enter the upper limit10\n"
     ]
    },
    {
     "data": {
      "text/plain": [
       "[0, 2, 4, 6, 8, 10]"
      ]
     },
     "execution_count": 69,
     "metadata": {},
     "output_type": "execute_result"
    }
   ],
   "source": [
    "def evengen(n):\n",
    "    for i in range(0,n+1,2):\n",
    "        if(i%2==0):\n",
    "            yield i\n",
    "            #print(i)\n",
    "###########################################\n",
    "n1=input(\"enter the upper limit\")\n",
    "n=int(n1)\n",
    "l1=[]\n",
    "##########################################\n",
    "e1=evengen(n)\n",
    "for i in e1:\n",
    "    l1.append(i)\n",
    "# myString = \", \".join(map(str, l1))\n",
    "# myString\n",
    "l1"
   ]
  },
  {
   "cell_type": "markdown",
   "metadata": {},
   "source": [
    "**68. Please write a program using generator to print the numbers which can be divisible by 5 and 7 between 0 and n in comma separated form while n is input by console.\n",
    "If the following n is given as input to the program: 100\n",
    "Then, the output of the program should be: 0, 35, 70\n",
    "Hints: Use yield to produce the next value in generator. In case of input data being supplied to the question, it should be assumed to be a console input.**"
   ]
  },
  {
   "cell_type": "code",
   "execution_count": 70,
   "metadata": {},
   "outputs": [
    {
     "name": "stdout",
     "output_type": "stream",
     "text": [
      "enter the upper limit: 100\n"
     ]
    },
    {
     "data": {
      "text/plain": [
       "[0, 35, 70]"
      ]
     },
     "execution_count": 70,
     "metadata": {},
     "output_type": "execute_result"
    }
   ],
   "source": [
    "def evengen(n):\n",
    "    for i in range(n+1):\n",
    "        if((i%5==0) and (i%7==0)):\n",
    "            yield i\n",
    "            #print(i)\n",
    "###########################################\n",
    "n1=input(\"enter the upper limit: \")\n",
    "n=int(n1)\n",
    "l1=[]\n",
    "##########################################\n",
    "e1=evengen(n)\n",
    "for i in e1:\n",
    "    l1.append(i)\n",
    "l1"
   ]
  },
  {
   "cell_type": "markdown",
   "metadata": {},
   "source": [
    "**69. Please write assert statements to verify that every number in the list [2,4,6,8] is even.\n",
    "Hints: Use \"assert expression\" to make assertion.**"
   ]
  },
  {
   "cell_type": "code",
   "execution_count": 71,
   "metadata": {},
   "outputs": [],
   "source": [
    "l1=[2,4,6,8]\n",
    "for i in l1:\n",
    "    assert i%2==0,\"list has an odd number\""
   ]
  },
  {
   "cell_type": "markdown",
   "metadata": {},
   "source": [
    "**70. Please write a program which accepts basic mathematic expression from console and print the evaluation result.\n",
    "If the following string is given as input to the program: 35+3\n",
    "Then, the output of the program should be: 38\n",
    "Hints: Use eval() to evaluate an expression.**"
   ]
  },
  {
   "cell_type": "code",
   "execution_count": 72,
   "metadata": {},
   "outputs": [
    {
     "name": "stdout",
     "output_type": "stream",
     "text": [
      "enter the expression35+3\n",
      "38\n"
     ]
    }
   ],
   "source": [
    "s1=input(\"enter the expression\")\n",
    "print(eval(s1))"
   ]
  },
  {
   "cell_type": "markdown",
   "metadata": {},
   "source": [
    "**71. Please write a binary search function which searches an item in a sorted list. The function should return the index of element to be searched in the list.\n",
    "Hints: Use if/elif to deal with conditions.**"
   ]
  },
  {
   "cell_type": "code",
   "execution_count": 73,
   "metadata": {},
   "outputs": [
    {
     "name": "stdout",
     "output_type": "stream",
     "text": [
      "Enter the list of numbers :1,2,3,4,5,6\n",
      "Enter the number to search : 3\n",
      "Element is present at index 2\n"
     ]
    }
   ],
   "source": [
    "def binarySearch (arr, l, r, x): \n",
    "    if r >= l: \n",
    "        mid = int(l + (r - l)/2)\n",
    "        if arr[mid] == x: \n",
    "            return mid        \n",
    "        elif arr[mid] > x: \n",
    "            return binarySearch(arr, l, mid-1, x)  \n",
    "        else: \n",
    "            return binarySearch(arr, mid + 1, r, x)  \n",
    "    else: \n",
    "        return -1   \n",
    "list1=input(\"Enter the list of numbers :\")\n",
    "list1=list1.split(',')\n",
    "x = [int(float(i)) for i in list1]\n",
    "number= int(input(\"Enter the number to search : \"))\n",
    "result = binarySearch(x, 0, len(x)-1, number) \n",
    "if result != -1: \n",
    "    print(\"Element is present at index \" + str(result))\n",
    "else: \n",
    "    print(\"Element is not present in array\")"
   ]
  },
  {
   "cell_type": "markdown",
   "metadata": {},
   "source": [
    "**72. Please write a binary search function which searches an item in a sorted list. The function should return the index of element to be searched in the list.\n",
    "Hints: Use if/elif to deal with conditions.**"
   ]
  },
  {
   "cell_type": "code",
   "execution_count": 74,
   "metadata": {},
   "outputs": [
    {
     "name": "stdout",
     "output_type": "stream",
     "text": [
      "Enter the list of numbers :1,2,3,4,5,6\n",
      "Enter the number to search : 5\n",
      "Element is present at index 4\n"
     ]
    }
   ],
   "source": [
    "###########   Same as prev qstn ######################\n",
    "def binarySearch (arr, l, r, x): \n",
    "    if r >= l: \n",
    "        mid = int(l + (r - l)/2)\n",
    "        if arr[mid] == x: \n",
    "            return mid        \n",
    "        elif arr[mid] > x: \n",
    "            return binarySearch(arr, l, mid-1, x)  \n",
    "        else: \n",
    "            return binarySearch(arr, mid + 1, r, x)  \n",
    "    else: \n",
    "        return -1   \n",
    "list1=input(\"Enter the list of numbers :\")\n",
    "list1=list1.split(',')\n",
    "x = [int(float(i)) for i in list1]\n",
    "number= int(input(\"Enter the number to search : \"))\n",
    "result = binarySearch(x, 0, len(x)-1, number) \n",
    "if result != -1: \n",
    "    print(\"Element is present at index \" + str(result))\n",
    "else: \n",
    "    print(\"Element is not present in array\")"
   ]
  },
  {
   "cell_type": "markdown",
   "metadata": {},
   "source": [
    "**73. Please generate a random float where the value is between 10 and 100 using Python math module.\n",
    "Hints: Use random.random() to generate a random float in [0,1].**"
   ]
  },
  {
   "cell_type": "code",
   "execution_count": 75,
   "metadata": {},
   "outputs": [
    {
     "data": {
      "text/plain": [
       "13.23852215610912"
      ]
     },
     "execution_count": 75,
     "metadata": {},
     "output_type": "execute_result"
    }
   ],
   "source": [
    "import random\n",
    "a=random.uniform(10,100)\n",
    "a"
   ]
  },
  {
   "cell_type": "markdown",
   "metadata": {},
   "source": [
    "**74. Please generate a random float where the value is between 5 and 95 using Python math module.\n",
    "Hints: Use random.random() to generate a random float in [0,1].**"
   ]
  },
  {
   "cell_type": "code",
   "execution_count": 76,
   "metadata": {},
   "outputs": [
    {
     "data": {
      "text/plain": [
       "43.16244422418246"
      ]
     },
     "execution_count": 76,
     "metadata": {},
     "output_type": "execute_result"
    }
   ],
   "source": [
    "import random\n",
    "a=random.uniform(5,95)\n",
    "a"
   ]
  },
  {
   "cell_type": "markdown",
   "metadata": {},
   "source": [
    "**75. Please write a program to output a random even number between 0 and 10 inclusive using random module and list comprehension.\n",
    "Hints: Use random.choice() to a random element from a list\n",
    "**"
   ]
  },
  {
   "cell_type": "code",
   "execution_count": 77,
   "metadata": {},
   "outputs": [
    {
     "data": {
      "text/plain": [
       "4"
      ]
     },
     "execution_count": 77,
     "metadata": {},
     "output_type": "execute_result"
    }
   ],
   "source": [
    "l1=[i for i in range(0,11) if(i%2==0)]\n",
    "random.choice(l1)"
   ]
  },
  {
   "cell_type": "markdown",
   "metadata": {},
   "source": [
    "**76. Please write a program to output a random number, which is divisible by 5 and 7, between 0 and 10 inclusive using random module and list comprehension.\n",
    "Hints: Use random.choice() to a random element from a list.**"
   ]
  },
  {
   "cell_type": "code",
   "execution_count": 78,
   "metadata": {},
   "outputs": [
    {
     "data": {
      "text/plain": [
       "0"
      ]
     },
     "execution_count": 78,
     "metadata": {},
     "output_type": "execute_result"
    }
   ],
   "source": [
    "l1=[i for i in range(0,100) if((i%5==0) and (i%7==0))] # have modified the range, since no such an integer exist for this condition and range\n",
    "random.choice(l1)"
   ]
  },
  {
   "cell_type": "markdown",
   "metadata": {},
   "source": [
    "**77. Please write a program to generate a list with 5 random numbers between 100 and 200 inclusive.\n",
    "Hints: Use random.sample() to generate a list of random values.**"
   ]
  },
  {
   "cell_type": "code",
   "execution_count": 79,
   "metadata": {},
   "outputs": [
    {
     "data": {
      "text/plain": [
       "[190, 153, 166, 141, 184]"
      ]
     },
     "execution_count": 79,
     "metadata": {},
     "output_type": "execute_result"
    }
   ],
   "source": [
    "l1=[i for i in range(100,201)]\n",
    "random.sample(l1,5)"
   ]
  },
  {
   "cell_type": "markdown",
   "metadata": {},
   "source": [
    "**78. Please write a program to randomly generate a list with 5 even numbers between 100 and 200 inclusive.\n",
    "Hints: Use random.sample() to generate a list of random values.**"
   ]
  },
  {
   "cell_type": "code",
   "execution_count": 80,
   "metadata": {},
   "outputs": [
    {
     "data": {
      "text/plain": [
       "[150, 128, 162, 144, 168]"
      ]
     },
     "execution_count": 80,
     "metadata": {},
     "output_type": "execute_result"
    }
   ],
   "source": [
    "l1=[i for i in range(100,201) if(i%2==0)]\n",
    "random.sample(l1,5)"
   ]
  },
  {
   "cell_type": "markdown",
   "metadata": {},
   "source": [
    "**79. Please write a program to randomly generate a list with 5 numbers, which are divisible by 5 and 7 , between 1 and 1000 inclusive.\n",
    "Hints: Use random.sample() to generate a list of random values.**"
   ]
  },
  {
   "cell_type": "code",
   "execution_count": 81,
   "metadata": {},
   "outputs": [
    {
     "data": {
      "text/plain": [
       "[665, 595, 0, 420, 770]"
      ]
     },
     "execution_count": 81,
     "metadata": {},
     "output_type": "execute_result"
    }
   ],
   "source": [
    "l1=[i for i in range(0,1000) if((i%5==0) and (i%7==0))]\n",
    "random.sample(l1,5)"
   ]
  },
  {
   "cell_type": "markdown",
   "metadata": {},
   "source": [
    "**80. Please write a program to randomly print a integer number between 7 and 15 inclusive.\n",
    "Hints: Use random.randrange() to a random integer in a given range.**"
   ]
  },
  {
   "cell_type": "code",
   "execution_count": 82,
   "metadata": {},
   "outputs": [
    {
     "data": {
      "text/plain": [
       "10"
      ]
     },
     "execution_count": 82,
     "metadata": {},
     "output_type": "execute_result"
    }
   ],
   "source": [
    "random.randrange(7,16)"
   ]
  },
  {
   "cell_type": "markdown",
   "metadata": {},
   "source": [
    "**81. Please write a program to compress and decompress the string \"hello world!hello world!hello world!hello world!\".\n",
    "Hints: Use zlib.compress() and zlib.decompress() to compress and decompress a string.**"
   ]
  },
  {
   "cell_type": "code",
   "execution_count": 83,
   "metadata": {},
   "outputs": [
    {
     "name": "stdout",
     "output_type": "stream",
     "text": [
      "b'x\\x9c\\xcbH\\xcd\\xc9\\xc9W(\\xcf/\\xcaIQ\\xcc \\x82\\r\\x00\\xbd[\\x11\\xf5'\n",
      "hello world!hello world!hello world!hello world!\n"
     ]
    }
   ],
   "source": [
    "import zlib\n",
    "data=\"hello world!hello world!hello world!hello world!\"\n",
    "binary=data.encode('ascii')\n",
    "comp_data=zlib.compress(binary)\n",
    "print(comp_data)\n",
    "s2=zlib.decompress(comp_data)\n",
    "print(s2.decode())"
   ]
  },
  {
   "cell_type": "markdown",
   "metadata": {},
   "source": [
    "**82. Please write a program to print the running time of execution of \"1+1\" for 100 times.\n",
    "Hints: Use timeit() function to measure the running time.**"
   ]
  },
  {
   "cell_type": "code",
   "execution_count": 84,
   "metadata": {},
   "outputs": [
    {
     "data": {
      "text/plain": [
       "8.782999998402374e-06"
      ]
     },
     "execution_count": 84,
     "metadata": {},
     "output_type": "execute_result"
    }
   ],
   "source": [
    "import timeit\n",
    "def add2():\n",
    "    a=1+1\n",
    "sec1=timeit.timeit(stmt=add2,number=100)\n",
    "sec1"
   ]
  },
  {
   "cell_type": "markdown",
   "metadata": {},
   "source": [
    "**83. Please write a program to shuffle and print the list [3,6,7,8].\n",
    "Hints: Use shuffle() function to shuffle a list.**"
   ]
  },
  {
   "cell_type": "code",
   "execution_count": 85,
   "metadata": {},
   "outputs": [
    {
     "data": {
      "text/plain": [
       "[6, 3, 8, 7]"
      ]
     },
     "execution_count": 85,
     "metadata": {},
     "output_type": "execute_result"
    }
   ],
   "source": [
    "import random\n",
    "l1=[3,6,7,8]\n",
    "random.shuffle(l1)\n",
    "l1"
   ]
  },
  {
   "cell_type": "markdown",
   "metadata": {},
   "source": [
    "**84. Please write a program to shuffle and print the list [3,6,7,8].\n",
    "Hints: Use shuffle() function to shuffle a list.**"
   ]
  },
  {
   "cell_type": "code",
   "execution_count": 86,
   "metadata": {},
   "outputs": [
    {
     "data": {
      "text/plain": [
       "[3, 6, 7, 8]"
      ]
     },
     "execution_count": 86,
     "metadata": {},
     "output_type": "execute_result"
    }
   ],
   "source": [
    "#repeat of qstn number 83\n",
    "import random\n",
    "l1=[3,6,7,8]\n",
    "random.shuffle(l1)\n",
    "l1"
   ]
  },
  {
   "cell_type": "markdown",
   "metadata": {},
   "source": [
    "**85. Please write a program to generate all sentences where subject is in [\"I\", \"You\"] and verb is in [\"Play\", \"Love\"] and the object is in [\"Hockey\",\"Football\"].\n",
    "Hints: Use list[index] notation to get a element from a list.**"
   ]
  },
  {
   "cell_type": "code",
   "execution_count": 87,
   "metadata": {},
   "outputs": [
    {
     "name": "stdout",
     "output_type": "stream",
     "text": [
      "I Play Hockey\n",
      "I Play Football\n",
      "I Love Hockey\n",
      "I Love Football\n",
      "You Play Hockey\n",
      "You Play Football\n",
      "You Love Hockey\n",
      "You Love Football\n"
     ]
    }
   ],
   "source": [
    "sub=[\"I\",\"You\"]\n",
    "verb=[\"Play\",\"Love\"]\n",
    "obj=[\"Hockey\",\"Football\"]\n",
    "for i in sub:\n",
    "    for j in verb:\n",
    "        for k in obj:\n",
    "            print((i +\" \"+ j+\" \" + k))       "
   ]
  },
  {
   "cell_type": "markdown",
   "metadata": {},
   "source": [
    "**86. Please write a program to print the list after removing delete even numbers in [5,6,77,45,22,12,24].\n",
    "Hints: Use list comprehension to delete a bunch of element from a list.**"
   ]
  },
  {
   "cell_type": "code",
   "execution_count": 88,
   "metadata": {},
   "outputs": [
    {
     "data": {
      "text/plain": [
       "[5, 77, 45]"
      ]
     },
     "execution_count": 88,
     "metadata": {},
     "output_type": "execute_result"
    }
   ],
   "source": [
    "ls1=[5,6,77,45,22,12,24]\n",
    "ls2=[i for i in ls1 if(i%2!=0)]\n",
    "ls2"
   ]
  },
  {
   "cell_type": "markdown",
   "metadata": {},
   "source": [
    "**87. By using list comprehension, please write a program to print the list after removing delete numbers which are divisible by 5 and 7 in [12,24,35,70,88,120,155].\n",
    "Hints: Use list comprehension to delete a bunch of element from a list.**"
   ]
  },
  {
   "cell_type": "code",
   "execution_count": 89,
   "metadata": {},
   "outputs": [
    {
     "data": {
      "text/plain": [
       "[12, 24, 88]"
      ]
     },
     "execution_count": 89,
     "metadata": {},
     "output_type": "execute_result"
    }
   ],
   "source": [
    "ls1=[12,24,35,70,88,120,155]\n",
    "ls2=[i for i in ls1 if((i%5!=0) and (i%7!=0))]\n",
    "ls2"
   ]
  },
  {
   "cell_type": "markdown",
   "metadata": {},
   "source": [
    "**88. By using list comprehension, please write a program to print the list after removing the 0th, 2nd, 4th,6th numbers in [12,24,35,70,88,120,155].\n",
    "Hints: Use list comprehension to delete a bunch of element from a list. Use enumerate() to get (index, value) tuple.**"
   ]
  },
  {
   "cell_type": "code",
   "execution_count": 90,
   "metadata": {},
   "outputs": [
    {
     "data": {
      "text/plain": [
       "[24, 70, 120]"
      ]
     },
     "execution_count": 90,
     "metadata": {},
     "output_type": "execute_result"
    }
   ],
   "source": [
    "l1=[12,24,35,70,88,120,155]\n",
    "l4=[0,2,4,6]\n",
    "l2=list(enumerate(l1))\n",
    "l3=[x[1] for x in l2 if (x[0] not in l4)]\n",
    "l3"
   ]
  },
  {
   "cell_type": "markdown",
   "metadata": {},
   "source": [
    "**89. By using list comprehension, please write a program generate a 3*5*8 3D array whose each element is 0.\n",
    "Hints: Use list comprehension to make an array.**"
   ]
  },
  {
   "cell_type": "code",
   "execution_count": 91,
   "metadata": {},
   "outputs": [
    {
     "data": {
      "text/plain": [
       "[[[0, 0, 0, 0, 0, 0, 0, 0],\n",
       "  [0, 0, 0, 0, 0, 0, 0, 0],\n",
       "  [0, 0, 0, 0, 0, 0, 0, 0],\n",
       "  [0, 0, 0, 0, 0, 0, 0, 0],\n",
       "  [0, 0, 0, 0, 0, 0, 0, 0]],\n",
       " [[0, 0, 0, 0, 0, 0, 0, 0],\n",
       "  [0, 0, 0, 0, 0, 0, 0, 0],\n",
       "  [0, 0, 0, 0, 0, 0, 0, 0],\n",
       "  [0, 0, 0, 0, 0, 0, 0, 0],\n",
       "  [0, 0, 0, 0, 0, 0, 0, 0]],\n",
       " [[0, 0, 0, 0, 0, 0, 0, 0],\n",
       "  [0, 0, 0, 0, 0, 0, 0, 0],\n",
       "  [0, 0, 0, 0, 0, 0, 0, 0],\n",
       "  [0, 0, 0, 0, 0, 0, 0, 0],\n",
       "  [0, 0, 0, 0, 0, 0, 0, 0]]]"
      ]
     },
     "execution_count": 91,
     "metadata": {},
     "output_type": "execute_result"
    }
   ],
   "source": [
    "arr = [[[0 for k in range(8)] for j in range(5)] for i in range(3)]\n",
    "arr"
   ]
  },
  {
   "cell_type": "markdown",
   "metadata": {},
   "source": [
    "**90. By using list comprehension, please write a program to print the list after removing the 0th,4th,5th numbers in [12,24,35,70,88,120,155].\n",
    "Hints: Use list comprehension to delete a bunch of element from a list. Use enumerate() to get (index, value) tuple.**"
   ]
  },
  {
   "cell_type": "code",
   "execution_count": 92,
   "metadata": {},
   "outputs": [
    {
     "data": {
      "text/plain": [
       "[24, 35, 70, 155]"
      ]
     },
     "execution_count": 92,
     "metadata": {},
     "output_type": "execute_result"
    }
   ],
   "source": [
    "l1=[12,24,35,70,88,120,155]\n",
    "l4=[0,4,5]\n",
    "l2=list(enumerate(l1))\n",
    "l3=[x[1] for x in l2 if (x[0] not in l4)]\n",
    "l3"
   ]
  },
  {
   "cell_type": "markdown",
   "metadata": {},
   "source": [
    "**91. By using list comprehension, please write a program to print the list after removing the value 24 in [12,24,35,24,88,120,155].\n",
    "Hints: Use list's remove method to delete a value.**"
   ]
  },
  {
   "cell_type": "code",
   "execution_count": 93,
   "metadata": {},
   "outputs": [
    {
     "data": {
      "text/plain": [
       "[12, 35, 24, 88, 120, 155]"
      ]
     },
     "execution_count": 93,
     "metadata": {},
     "output_type": "execute_result"
    }
   ],
   "source": [
    "l1=[12,24,35,24,88,120,155] #### Remove deletes only the first encounter####\n",
    "l1.remove(24)\n",
    "l1"
   ]
  },
  {
   "cell_type": "markdown",
   "metadata": {},
   "source": [
    "**92. With two given lists [1,3,6,78,35,55] and [12,24,35,24,88,120,155], write a program to make a list whose elements are intersection of the above given lists.\n",
    "Hints: Use set() and \"&=\" to do set intersection operation.**"
   ]
  },
  {
   "cell_type": "code",
   "execution_count": 94,
   "metadata": {},
   "outputs": [
    {
     "data": {
      "text/plain": [
       "{35}"
      ]
     },
     "execution_count": 94,
     "metadata": {},
     "output_type": "execute_result"
    }
   ],
   "source": [
    "l1=[1,3,6,78,35,55]\n",
    "l2=[12,24,35,24,88,120,155]\n",
    "s1=set(l1)\n",
    "s2=set(l2)\n",
    "s1&=s2\n",
    "s1"
   ]
  },
  {
   "cell_type": "markdown",
   "metadata": {},
   "source": [
    "**93. With a given list [12, 24, 35, 24, 88, 120, 155, 88, 120, 155], write a program to print this list after removing all duplicate values with original order reserved.\n",
    "Hints: Use set() to store a number of values without duplicate.**"
   ]
  },
  {
   "cell_type": "code",
   "execution_count": 95,
   "metadata": {},
   "outputs": [
    {
     "data": {
      "text/plain": [
       "[35, 12, 155, 24, 88, 120]"
      ]
     },
     "execution_count": 95,
     "metadata": {},
     "output_type": "execute_result"
    }
   ],
   "source": [
    "lst1=[12, 24, 35, 24, 88, 120, 155, 88, 120, 155]\n",
    "lst2=list(set(lst1))\n",
    "lst2"
   ]
  },
  {
   "cell_type": "markdown",
   "metadata": {},
   "source": [
    "**94. Define a class Person and its two child classes: Male and Female. All classes have a method \"getGender\" which can print \"Male\" for Male class and \"Female\" for Female class.\n",
    "Hints: Use Subclass(Parentclass) to define a child class.**"
   ]
  },
  {
   "cell_type": "code",
   "execution_count": 96,
   "metadata": {},
   "outputs": [],
   "source": [
    "class Person:\n",
    "    def __init__(self,gender):\n",
    "        self.gender=gender\n",
    "\n",
    "class Male(Person):\n",
    "    def __init__(self):\n",
    "        super.__inti__(Person.gender)\n",
    "        \n",
    "    def getGender(self):\n",
    "        if self.gender=='M':\n",
    "            print(\"Male\")\n",
    "\n",
    "class Female(Person):\n",
    "    def getGender(self):\n",
    "        if self.gender=='F':\n",
    "            print(\"Female\")"
   ]
  },
  {
   "cell_type": "markdown",
   "metadata": {},
   "source": [
    "**95. Please write a program which count and print the numbers of each character in a string input by console.\n",
    "If the following string is given as input to the program: abcdefgabc\n",
    "Then, the output of the program should be:\n",
    "a,2\n",
    "c,2\n",
    "b,2\n",
    "e,1\n",
    "d,1\n",
    "g,1\n",
    "f,1\n",
    "Hints: Use dict to store key/value pairs. Use dict.get() method to lookup a key with default value.**"
   ]
  },
  {
   "cell_type": "code",
   "execution_count": 97,
   "metadata": {},
   "outputs": [
    {
     "name": "stdout",
     "output_type": "stream",
     "text": [
      "Enter the string to be conutedabcdefgabc\n",
      "a 2\n",
      "b 2\n",
      "c 2\n",
      "d 1\n",
      "e 1\n",
      "f 1\n",
      "g 1\n"
     ]
    }
   ],
   "source": [
    "str1=input(\"Enter the string to be conuted\")\n",
    "dict1=dict()\n",
    "for i in str1:\n",
    "    cnt=str1.count(i)\n",
    "    dict1.update({i:cnt})\n",
    "for i in dict1.keys():\n",
    "    print(i,dict1.get(i))"
   ]
  },
  {
   "cell_type": "markdown",
   "metadata": {},
   "source": [
    "**96 Please write a program which accepts a string from console and print it in reverse order.\n",
    "If the following string is given as input to the program: rise to vote sir\n",
    "Then, the output of the program should be: ris etov ot esir\n",
    "Hints: Use list[::-1] to iterate a list in a reverse order.**"
   ]
  },
  {
   "cell_type": "code",
   "execution_count": 98,
   "metadata": {},
   "outputs": [
    {
     "name": "stdout",
     "output_type": "stream",
     "text": [
      "Enter the sentence to reverserise to vote sir\n"
     ]
    },
    {
     "data": {
      "text/plain": [
       "'ris etov ot esir'"
      ]
     },
     "execution_count": 98,
     "metadata": {},
     "output_type": "execute_result"
    }
   ],
   "source": [
    "strip=input(\"Enter the sentence to reverse\")\n",
    "strrs=strip[::-1]\n",
    "strrs"
   ]
  },
  {
   "cell_type": "markdown",
   "metadata": {},
   "source": [
    "**97. Please write a program which accepts a string from console and print the characters that have even indexes.\n",
    "If the following string is given as input to the program: H1e2l3l4o5w6o7r8l9d\n",
    "Then, the output of the program should be: Helloworld\n",
    "Hints: Use list[::2] to iterate a list by step 2.**"
   ]
  },
  {
   "cell_type": "code",
   "execution_count": 99,
   "metadata": {},
   "outputs": [
    {
     "name": "stdout",
     "output_type": "stream",
     "text": [
      "enter the stringH1e2l3l4o5w6o7r8l9d\n"
     ]
    },
    {
     "data": {
      "text/plain": [
       "'Helloworld'"
      ]
     },
     "execution_count": 99,
     "metadata": {},
     "output_type": "execute_result"
    }
   ],
   "source": [
    "str1=input(\"enter the string\")\n",
    "str2=str1[::2]\n",
    "str2"
   ]
  },
  {
   "cell_type": "markdown",
   "metadata": {},
   "source": [
    "**98. Please write a program which prints all permutations of [1, 2, 3]\n",
    "Hints: Use itertools.permutations() to get permutations of list.**"
   ]
  },
  {
   "cell_type": "code",
   "execution_count": 100,
   "metadata": {},
   "outputs": [
    {
     "name": "stdout",
     "output_type": "stream",
     "text": [
      "[(1, 2, 3), (1, 3, 2), (2, 1, 3), (2, 3, 1), (3, 1, 2), (3, 2, 1)]\n"
     ]
    }
   ],
   "source": [
    "#from more_itertools import circular_shifts\n",
    "import itertools\n",
    "lst=[1,2,3]\n",
    "print(list(itertools.permutations(lst)))"
   ]
  },
  {
   "cell_type": "markdown",
   "metadata": {},
   "source": [
    "**99. Write a program to solve a classic ancient Chinese puzzle:\n",
    "We count 35 heads and 94 legs among the chickens and rabbits in a farm. How many rabbits and how many chickens do we have?  Hint: Use for loop to iterate all possible solutions**"
   ]
  },
  {
   "cell_type": "code",
   "execution_count": 101,
   "metadata": {},
   "outputs": [
    {
     "name": "stdout",
     "output_type": "stream",
     "text": [
      "1 23\n",
      "3 22\n",
      "5 21\n",
      "7 20\n",
      "9 19\n",
      "11 18\n",
      "13 17\n",
      "15 16\n",
      "17 15\n",
      "19 14\n",
      "21 13\n",
      "23 12\n"
     ]
    }
   ],
   "source": [
    "for i in range(1,36):\n",
    "    for j in range(36-i):\n",
    "        if((2*i)+(4*j)==94):\n",
    "            print(i,j)"
   ]
  },
  {
   "cell_type": "markdown",
   "metadata": {},
   "source": [
    "**100. Create a dictionary with phone numbers (phonebook = {“John”: 938477566, \"Jack”: 938377264, \"Jill”: 947662781}). Add \"Jake\" to the phonebook with the phone number 938273443, and remove Jill from the phonebook**"
   ]
  },
  {
   "cell_type": "code",
   "execution_count": 102,
   "metadata": {},
   "outputs": [
    {
     "name": "stdout",
     "output_type": "stream",
     "text": [
      "{'John': 938477566, 'Jack': 938377264, 'Jill': 947662781}\n",
      "{'John': 938477566, 'Jack': 938377264, 'Jill': 947662781, 'jake': 938273443}\n",
      "{'John': 938477566, 'Jack': 938377264, 'jake': 938273443}\n"
     ]
    }
   ],
   "source": [
    "phnbk={\"John\": 938477566,\"Jack\": 938377264,\"Jill\": 947662781}\n",
    "print(phnbk)\n",
    "phnbk.update({\"jake\":938273443})\n",
    "print(phnbk)\n",
    "del phnbk[\"Jill\"]\n",
    "print(phnbk)"
   ]
  }
 ],
 "metadata": {
  "kernelspec": {
   "display_name": "Python 3",
   "language": "python",
   "name": "python3"
  },
  "language_info": {
   "codemirror_mode": {
    "name": "ipython",
    "version": 3
   },
   "file_extension": ".py",
   "mimetype": "text/x-python",
   "name": "python",
   "nbconvert_exporter": "python",
   "pygments_lexer": "ipython3",
   "version": "3.7.3"
  }
 },
 "nbformat": 4,
 "nbformat_minor": 2
}
